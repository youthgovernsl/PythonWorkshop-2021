{
  "nbformat": 4,
  "nbformat_minor": 0,
  "metadata": {
    "colab": {
      "name": "The IDLE Week 02",
      "provenance": [],
      "collapsed_sections": []
    },
    "kernelspec": {
      "name": "python3",
      "display_name": "Python 3"
    }
  },
  "cells": [
    {
      "cell_type": "markdown",
      "metadata": {
        "id": "1rwHDo4KJAs3"
      },
      "source": [
        "# THE IDLE WEEK 02"
      ]
    },
    {
      "cell_type": "markdown",
      "metadata": {
        "id": "uJsy2qRTIw6x"
      },
      "source": [
        "## HackerRank Contest 2 - Sample Solutions"
      ]
    },
    {
      "cell_type": "markdown",
      "metadata": {
        "id": "KFg6yQWRJxYN"
      },
      "source": [
        "### Challenge 01"
      ]
    },
    {
      "cell_type": "markdown",
      "metadata": {
        "id": "qQbhgiDwIqKG"
      },
      "source": [
        "Write a program to check whether the input letter of the alphabet is a vowel or consonant.\r\n",
        "\r\n"
      ]
    },
    {
      "cell_type": "markdown",
      "metadata": {
        "id": "JOEW3nCvJM-G"
      },
      "source": [
        "![image.png](data:image/png;base64,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)"
      ]
    },
    {
      "cell_type": "markdown",
      "metadata": {
        "id": "VQIYtb1EJRJg"
      },
      "source": [
        "**Input Format**\r\n",
        "\r\n",
        "u\r\n",
        "\r\n",
        "**Constraints**\r\n",
        "\r\n",
        "Input must be a single letter in the alphabet. No numerics or symbols\r\n",
        "\r\n",
        "**Output Format**\r\n",
        "\r\n",
        "u is a vowel\r\n",
        "\r\n",
        "**Sample Input 0**\r\n",
        "\r\n",
        "`u`\r\n",
        "\r\n",
        "**Sample Output 0**\r\n",
        "\r\n",
        "`u is a vowel`\r\n",
        "\r\n",
        "**Sample Input 1**\r\n",
        "\r\n",
        "`y`\r\n",
        "\r\n",
        "**Sample Output 1**\r\n",
        "\r\n",
        "`y is a consonant`"
      ]
    },
    {
      "cell_type": "markdown",
      "metadata": {
        "id": "NH6EkA_ZKsOx"
      },
      "source": [
        "*Solution*"
      ]
    },
    {
      "cell_type": "code",
      "metadata": {
        "colab": {
          "base_uri": "https://localhost:8080/"
        },
        "id": "1ZlmbjswJ3Mz",
        "outputId": "ae6e9539-641a-4555-8b97-a8695d6b6fc3"
      },
      "source": [
        "letter = input()\r\n",
        "\r\n",
        "if letter in ('a', 'e', 'i', 'o', 'u'):\r\n",
        "    print(letter,\"is a vowel\")\r\n",
        "else:\r\n",
        "    print(letter,\"is a consonant\")"
      ],
      "execution_count": null,
      "outputs": [
        {
          "output_type": "stream",
          "text": [
            "a\n",
            "a is a vowel\n"
          ],
          "name": "stdout"
        }
      ]
    },
    {
      "cell_type": "markdown",
      "metadata": {
        "id": "IhnWBD7SKJdL"
      },
      "source": [
        "### Challenge 02"
      ]
    },
    {
      "cell_type": "markdown",
      "metadata": {
        "id": "Yz5ECJ5rKNHf"
      },
      "source": [
        "Write a program to calculate the factorial of a number. If the input is a negative number, display the error message \"Factorial cannot be found for negative numbers\"."
      ]
    },
    {
      "cell_type": "markdown",
      "metadata": {
        "id": "Hpt1y_o8KPiy"
      },
      "source": [
        "![image.png](data:image/png;base64,iVBORw0KGgoAAAANSUhEUgAAAl8AAACtCAYAAACOehomAAAgAElEQVR4Ae1dPcs0yXWdNxACRUo2VSTBsk4WhAMhgyT0A5TsSl5QqEQoUCgWBRspWRBGP2AD2Xq98CJhtOBf4MB/YBecCLNG/8GBjcecnj41t2/f21/VXzPPGXjoruqq+3Huraoz1f1MX676CAEhIASEgBAQAkJACOyGwGU3TVIkBISAEBACQkAICAEhcBX5UhIIASEgBISAEBACQmBHBDrk67PPPrvqTxgoB5QDygHlgHJAOaAcWCcHLpcO1WooXqcGQKOR/oSBckA5oBxQDigHlAPKgboceP36dcOp/KZaSL7efPHFVX/CQDmgHFAOKAeUA8oB5cDyHBD5EqEUoVYOKAeUA8oB5YByYMccEPnaEWx9S1j+LUHYCTvlgHJAOaAceJYcEPkS+dK3HeWAckA5oBxQDigHdswBka8dwX4Wxi4/9O1TOaAcUA4oB5QDy3NA5EvkS992lAPKAeWAckA5oBzYMQdEvnYEW98Sln9LEHbCTjmgHFAOKAeeJQdEvkS+9G1HOaAcUA4oB5QDyoEdc0Dka0ewn4Wxyw99+1QOKAeUA8oB5cDyHBD5EvnStx3lgHJAOaAcUA4oB3bMAZGvHcHWt4Tl3xKEnbCbmgOffvnJ9Qdfe3V99zefazGpmd/+/PPrW6/euv79vz5x7r0EH2tyQH03m0NEvpRcmyVXtFhyYRx+L9h7148+v+5nVzsB+8X6j7/7WfPuraj+1Ve+9XyL0gY4ZBhGubFWHXPMx20t+fQpzOG3P9wvb2fOXbR7Mi5//vn1ncs7g3lOmY+GRcmFCT6WtjPxVr8nJu0r5ILI1wogapAtH2SYvI8mMlysv/7T33cWzl+/+6ohX77+Dx989Xo5wyK78rf2XXBY2eY3gTz6MZlkzJwDboRj4y8IgV+7zzMTbNgFi5nxmYXTBB9nydvSVsnuzM+PHheRLyX0oQl9BvKFQdwQLUOouIC/8+3vd4gW6z0hO2Qi2OBb++Y4rG1zII8xenTyNbbrtHnOBdh6nc9Avg7HWWvQoWuQz+m9yiJfSvxDEz8kX8G30Wa36XLfbeAC60nQbTG4NDtWuBXir2cDq7eI/Pnn1+9c3rv+8k+/6Dz3Qr1c2G923fX5XbzQP+Rc6yPlUG7n9o0hg97uqL31dW8cGvtan374248bzIAFz/Hc0Fybx3YXM3msh248+0VMLT7E0+M0phP9erni5pCxnEh1Xy7Nc2q0n3b7PPY2R34xv4i/jwVsGLUzGIe0nccxLLrt7uNkjs2IIdr/+LvfKLHkOPNYcDxBL3EcrHM+jmLiYk3/dFx+9+OlYifypcF0OvLFSZMTNMtYhDiRso5lDGBMxJyUUWYbyhkc5I4MNZN6S34w6VOP14HJmtcg/zZ5j5PEpl0rP7ITdR9+80fDz765hYP+eRsj+WzbOy7EoZHT9u0QGL97ktjscYM8vwvXs9WQWPtQOP29GLLuMYGspTqb3LjcicSdJN3iDrlDOXHXfc9n1EFuydUEJ+8HfS39OJ9NiMWonT52lG2OY1jQr0njMrCZ/tn+kMlHAmyuZdjYWFBeqXM+jmJifIcd+hMGS3NA5EsD6NAJxE+YTGRMrmVBaXehQIJYd5v0x0kOdwDs4kwd9shJmfKtfnveLNgDO1KRvqaPIQJeF/uUBWFqTrqFA/70ZFNWsphbDKL+1nd7HuIQ6fB1Azb3/Pd96Ys9TpXXyqIO4sRywWGCTp97pa+1y547mdTNXAv7D/jV6+fkN/Km1g3YybwcGjtjWKS+TrQv6x/qbWUypuzLMnDp1UV2DGFir+n80LUjHDcPFBORrwcK1qMnW2Q/JlH/rRbt7OKOcyw4dsK119G+N6m2cc3qI1tALvhN2u922Xq/+DX9zE6I94c2sJ/1g3Z0ZdxJJa+Hx2DhoC674KBvVh/JXYoDFuve8zO+LrCZi/x9B+m+q+Sx7NkbyIt87dW1/ZbojOLn7erG89LN8Va3j1FHxkS/0KfnG3Lf457UjdnZi6ebL8ewCG2bYTP7c+wQo0gv2xJXXw6xCnAaxMT5T3t01A7Y3BwQ+dJgOvTbCybRcIE1iw+IkH1mCJMrJkg7IUcTbTjZDsSbEzqe88LzXuXnLlpb+AyRn9xJzJrBZ+y2g7GZ0M1tTGu7bdeQykLkjA2R3cHCcQQOxf7Id18X2EzyNbTDUnR4HAJ5EQa9Om+XlztQZp6U/DBtqWcwJ1rdzKPQt4l+oS91duRF/pk69pli51BchrBIbZthM+304yXSy7bEwZdDe+ZiYmIdxk3XD11PHikmIl8aLIcOFkyiEfnixPm9D35VdqMwsEBi8B+I/hs52/tJes7CThnZfziivmNrezu0swgHi2YzIbSTPPyZ9MOVbXsuJOGkYhYOXqcPu+LAMRT57uvm2Ey5Q8cBeRY74sI6lns4Delqr0ULP/FHvnWIO/o4DCbpHvCrZ3PQ1utkDpZxM8HOUIbDZxALQ7KW2pxhFellWx9jloGBb9PxcQomzv8Sd9Ufuo48YhxEvjRoDh00GfnCYOL2f2fibhca+zA1B56XxYm2038g3myPW1G+D22xOwVsz8md5Q5BM/oow8vGAmDlwh/vC320R+rz8nzfrJ2VZc/ZfioOpW9CAizZpGxvM3f8iCVkoi13PYsOgyfb8L/h2IY6vCz/q/dLdQLfKP+sPdRNW3xOQLevg1ziwn4s07fJsR2JBeUP2hnJcPgPYbGGzbQzwsHHgG29T7YvxyDbYOwxP7P+Pk70S0fdaqzJAZEvN5nUgKm+8wejX0wshtE1TpB2QvV97HM8WTvbx55HCzKu3xaZPiljPXRikua/9ke3aiJ/IJs+WbunTvhWv/XV1kckyvocnc/FoZHhdniyOmubtZkLocXBk9LIVi+PeJYF1mBs62gfFt85Om/68lvC1p6hnLDtqN/aZ69bnGx9GtsJsbByQjsjGW6+vMnIsWC8rK45NjOW1n/IjPSyrcXQ55R/dADXy25gkXt75jDExPlP/3ScP/e/dMxEvjSYDt35ekkDsPnWPfSfkspF5aJyQDmgHHgROSDypUR/EYl+OMlrb290vpUr95R7ygHlgHLgReaAyJcS/0Um/t5k7Pasyfjtmb3tkj7dLlEOKAeUA/vngMiXyJfIl3JAOaAcUA4oB5QDO+aAyNeOYOvbxf7fLoS5MFcOKAeUA8qBs+WAyJfIl77tKAeUA8oB5YByQDmwYw6IfO0I9tmYt+zRt0HlgHJAOaAcUA7snwMiXyJf+rajHFAOKAeUA8oB5cCOOSDytSPY+nax/7cLYS7MlQPKAeWAcuBsOSDyJfKlbzvKAeWAckA5oBxQDuyYA5PJFxrqTxgoB5QDygHlgHJAOaAcqM8BvGrLfzo1n332WffdZ5fbu6/4PjId18NDWK+HpfJSWCoHzpEDmtfOEQeNh/PEgWNiEvnyjVReH4EsIOtrkkQhIASEwD4IaF7bB2dpeRwEsjER7nw9jluPa2kWkMf1SJYLASHw0hHQvPbSM0D+ewSyMSHy5ZHaqZwFZCf1UiMEhIAQWB0BzWurQyqBD45ANiZEvg4KbBaQg8yRWiEgBIRANQKa16ohlIAnQyAbEyJfBwU6C8hB5kitEBACQqAaAc1r1RBKwJMhkI0Jka+DAp0F5CBzpFYICAEhUI2A5rVqCCXgyRDIxoTI10GBzgJykDlSKwSEgBCoRkDzWjWEEvBkCGRjQuTroEBnATnIHKkVAkJACFQjoHmtGkIJeDIEsjEh8nVQoLOAHGSO1AoBISAEqhHQvFYNoQQ8GQLZmBD5OijQWUAOMkdqhYAQEALVCGheq4ZQAp4MgWxMiHwdFOgsIAeZI7VCQAgIgWoEnn5e+/yj6zuXd64ffT4A1ZQ27D6nLfuc+Xi0P0frD2KTjQmRrwCsPaqygOyhWzqEgBAQAlsgMDSv/d///OX663dfXS9vf3j9r//+3476v/71H64/+Nqr60/edKrPV/CLuy/Ptbi2P/StIWOu3ZnePW2JdEV1S3xbsU82JkS+VgR5jqgsIHNkqK0QEAJC4EwIjM1rhYC9f2dZrHv3N0PbSSfx0i/uvjzXzNr+0LeGjLl2Z3r3tCXSFdUt8W3FPtmYEPlaEeQ5orKAzJGhtkJACAiBMyEwaV77/KPOLtd/fvy3nd0wkrHL5XJt/uxOWbS4RnUWlPb6j7/7jZu8y+UKotfobXUU4hfJsnXmvGcnZL394RW7eOXWZNv+j7/7WdF9ubx3LdTTyPM4wAXqKPZZv8z1glVrA3YW2bdcszgmfV995VudW6p/+OCrod092c73rr+X3o5mJpdE8t7fYGV830y/0bHWaTYmRL7WQnimnCwgM8WouRAQAkLgNAhMndduxOe966dffnInKpYQmJ2xZqFm2ZCV4nRUVy7edoZwS5MEhqSrW24X+UiWrbPn0OHLvq4lmhfaf73eSB+JkOkf3XolToWsWb94bmSwqpATo7eD4/V69WXvi7/eI4eBXsgA1j1/DeEclBv0p0+94xb6e0rqK7IxIfJVj+0iCVlAFglTJyEgBITACRCYM681i3C7C1VMTxZUv5PUeeA96lMEBgTJt7dle04Zts6e47ov+7qZ1y3BIYEiSaQ5veOYDnaw7ez5xOsgh98xJGrU9yVyI7soxx+jtmN1wfWeX15PZTkbEyJflcAu7Z4FZKk89RMCQkAIHI3ArHktWAixoHcW+Ou1uY2H3ZSGcCV9CjmLAPB9hsr+GuTZOnvur1G3bWPP2+vc4Qr9se3tOWVHx6jdBBw9zt7PZgervS3LW5ed25KJ3l4sbDvubGVybdvIV1sXtR2rG9Nv5a90no0Jka+VAJ4rJgvIXDlqLwSEgBA4CwKz5rWxhZJO2Xb2PLrOOnv0fYbK/hrk2Dp77q9Rp21jzyde5205HtktPY7pYEfbzp4n13vkjO14HJMRtQtIIZs1x0hmp4EpRG3H6sb0G/FrnWZjQuRrLYRnyskCMlOMmgsBISAEToPArHktWCh5q80+M2RJCHeN7E9S4HpnR8aj4fUMlEflu75R+yGy1vPPyYPpfCZt0CfjY2RDT497xovX7S1N6LU6Le5Qhz4ffvNH5Z8FIr0d32mj83FQrmtLEdFxE/2Rosq6bEyIfFUCu7R7FpCl8tRPCAgBIXA0ArPmtWShJTHgrS7/u2AkJ7z+w99+3Hlov4eB1zNSHpTv+xqy1NgT/Ldj7/adeQg+IivFfz6U33OoX9Gxue1X5PAWn5NH8kIcv/fBr3o4NkSJ/XG0to/5TjMDzFK5QVuKiY7eb/g0eNuzFZLqj5RU1mVjQuSrEtil3bOALJX30vr9x7//y/XNF1+czm3Edc/P3vqW+PYINi7xS336CGhec5jMJBPoTdJkd/ec1G2KB9yS28aRc0nNxoTI10FxygJykDkPpRbEC992z/jZ0zb8Fs4//9tfzghDx6Y9MekoVmF3BDSvOcgXkK/bbk78+1ZOelUReizB87cDq4Src0EgGxMiXwWifU+ygOxrxeNpw0KO7fEzf0CK/vGfXm9qInSclYBGju+BSaRXdfsioHnN4T2TfHHXyz6L5SSuVuzcssMtRXdbcjVFL1xQNiZEvg5KjCwgB5nzMGrxK9Vn3+3BBPp33/6bzW6LgoC+8+3v996Pd+Ygbo3JmX1/SbZpXntJ0ZavUxDIxoTI1xT0NmiTBWQDVU8jkqTjERzCTs9WO3QgoGfb9UI+v379uvnzL01mvLbEhDqOPiJHicPWzyRSF7DfWtdUXDWvTUVK7V4KAtmYEPk6KAOygNSagwUO/71y9t2hJX6CdGxFaJbYgz5YAIG3JxysX3tRxA7SmeLLfON/TPEYkcOtMFkauzX7ZThssUMJHN969ZZ5597tHYhb6LIYTRl/W81r1g6dC4FHQiAbEyJfB0UxC0itOVwEno18ceE+i1+IH7DGIojfxvHkCyQJ1yISUhNj6Iz01cis6YsFGc+30X/4jbqIIG6FSY39a/VFXICDJdsci2t/YYBcyLRjYStdiBl28hjTMV+2mtfWipPkCIG9EcjGhMjX3pFo9WUBGTMH/TAZcrHz7TkJ24nZt9mqzIkaNq79mesXyBpwsovhWjaRRHCXB8coHliwsBux5meuzLF8WdM2yiI+0UI9137KfNTjnv5C19rEnF96mOtRTG1sls5r9jen7H/gWdmPcu59seU9HqSfhNPMfwToyazt3xP4vBXZmFhOvpaAP7FP+K+27TuZ7MDEJP/rd191/l32UUKYBcTbD9KBCRXfqjkB4oi6iGCRpGxBOrxtKOMHBDEhY+K39q19C4R+RSQHdnCRAE542N3asvbuk8WB8Yns2mIxBN5DhI72TM0X68ta52Pka22CsJbda8sZwmFtXZC3Rb5ZOyF/K/KFHxtFbiM3Oi/NtgY8yrn3xZfP4MfEtTg1tbZ/Kvj5LmRr/Xzy1SYSCcCsgTIxYPymYIlW+bdY+wu7D/yjcFlAfOqR1GDS4wJPohFNhCQpe5AvLC7MAyz2tI82ROQQ/mU7d1k9+owtLNQJYgJs8YF9IGKY0Lf6UC99t3oYu+ga2mX+ZvXEO4o79VLn1HxhvzWPzM+I9NK+CBP4hzzyn6zet1ujDNujsZPVe52wFfHjl4ChLyGZX1m912XL6DNGzDMfsnorH+eI3VDuoc3Uec3LLvP7E/zcwUP4MnEt9nEq5dr+RdDzn2RjYj75IlYJ+CXx+EqC7FUHI78rgh984xYtJhbscDULnRmcja627PXab1C2Hc2nTK/Dvz6B7dc+ZgGxemBj9twQd5xse5wPkQG2hVwsEPiDHdE52w4dqcuTLEzmIGW+nrLQz5ID1LOObfwRE//QjgmuRztCkDvUz+uZWx6Sj2tr4kBcswVwSb7M9XesPWzgDkZEsMYwQRwtAYM8EOgsl8bsmXsdGPufCUHdEImyOhgjxB19xuxey98xXGFjrW+wNcs9YjBlXkNbP18Dr+bPfblGLpVraGOv832F7MujXyNY3x7Ll3qzkVB0GPl3G9/r7uwb+VN8sXLedHyvk0vMefTr3E3v/cdaO+V2/Wbe0P+CjfmlfV7r/A5YsP53X9lz10v7XuoxGxPrki8XEEyc9kWc0XussoDYRMJOGN6w/umXnzQTO3fbLEHzcmyi5Ttp9wSBrSB4fnB7uWuVs4BY+ZzI/QQOWzEgop0FDqZo4aNs9B8iXrBtqD/lQFe0q0Qboh0E25cTOdrznNf9kQu6r2c5I6MZKWO/2iN9jfCCbsTJx8/qtL7bc9uG58yHDCte9/qG8oWy1zpyp9HbQPlTMIEMErA9iRdtBI4kW/ac16cemRvROLUyav2lniwvrC7rjz23bbLztcjXbW4G2brNv2XuvVzKF+7SpiU6vo0tW8JgbS9koCVU6MP1aEw+5LANcgE6uI5gTFMn2wz54u1gn1q51lecwz77XkPq7dhKckniyXLx18XEXG/ksezW+s41ynIk1dv7UsrZWr8p+eqB6wLWu24rzC3FJlnboCPIdiCQiNmuzbnpj3Ijww1k7nr1+u5QkQXEqsakGu3aYNLMFnVOxBEZsLLXOM8mY9RHpMzrhK2YgKYsGpQZ+YVJFXhwwaYe1Gc7h2gDHKEbi190RF2kj/JxzGLEa7BriISy3RQcGPcMr8wW9ssI0Ro4AGvgCLwzPfR1CiaQhb8hWZC31QeYICb4G8uBIRuG8tb2W+ovx/sYwbO6lvqWjXcre2xeiwhM73mv5BkpkonmCzLJA3azSAiMISQ4JEXm0rWnr71o5SOfmy/jhhD6flN88XJ8uVHt/TW+kTh53R1/2gJlc33EhsWbP/+84MO1kzotUevVRWu1rcvOW1uATaO/Lb/kQzYm1iVfJDlmm7dDcGzARqJhEwkDiXJIxG6DK9i5Mro7A8/qtucjdmx1OQuI1YfJDpO//2SLLNpxIa1ZMLy+qIz4YBGNJv0pkzRkwo8ppANthxYxLkCe5AAL2LjlAk7dEd6wGfqjaxbTqTgQ84x8LckXa8fSc9jF+IxhPQUTyAMZQW6MyVtq81i/pQTFy0Vsoy9Qtt1Sf5l70Ri08v35Ut8Quyz3qGNsXotIka+7l9tbkZ05Pdgds9fbL9hFRrD7Uq7ZfuYca01ErO79buuOLwMDX0c5yAFsFLCMeYHEyvfx5Ugu8fbHpu/7b252vP+m0RfdNQKZGyNfnjzR9mbDw/Y3ZBF+8Y8+extfWjkbE6uTrw6wNkC44Mudxv0CmPrXf/r75htI2eH6/KPmHVRMMvRiUpCgNZLczhfqmm82778px77G/WqygFgLcCstmlizRdb2HTonQcMCh8nUH1E3RhgyYkOC4HehvD1YODiR23PfjmUuNJ5g4TquRTtt7DPmC3UsOVJ3pIOEJLpGXeg/BwfkRETIIW+rfKGt0RF5AL3AP4qN7zMFE+Qj8oekZIyAYSzhz3/m1rM/yQniZs95fc5xC3+hH3KxyI2NM2+r9cee+3ZRGTqZq9F11I3Na4PEYgJxyvTe5d5Ijd3F8n1K24CYlbaFUNy/4Jd+7U5bKbe3T9G31Hlf2GYlucVOf9Kuj3aXC+dYR8ae2eqsz9FabevcuSdq3qyXXM7GxKrkC4nnCZBl1yRJZPxjAfGJjPaYkLkdXOTYRGiF3vreBw6qKS9i5EVusIU9ZueS61lAKAsTIyZXv/DAzqFbaZCLxWtowaeOmmNGOjK7rS4SDmsj62w7ez4kN1sUuPBZOWudA2c8N2cXQZQtAQEpGVqs6PMcHDKfMnzG8qUWDxIvkIDoHzesb9A1hgn8s4QC9iOf/TiwdtMGW0ddESnP2qMPcIQ+G0fUgfB6X6iPNsJutkEdcyP6AsW+S/xF3mBuQG4xD+0znNZ26qnxjXEFbsAB5ewzNq/5ORg4cT4va0chKPfdoUZfSyyIsbWBawvnduqxdz9Qx10b+AIMyxoCYUZ+6d+SqMhOtqHOoTYkPuzD8lCfIbnWd3tOHLzf8LVzezZYMy35KnaZ9ZCbF40+179zrV2n+Xydte8lnmdjYj75MgOjCWizzXgjOffA37ceO8ltCFDTd+ibh9nR6iRNu4PFxGQwS1K3256YmDwbLwkV6C3XTLJR9hbHLCDUxQnWTzTZIuv7ZRMw29UesWhEOzCwG7EZ+thFyrbDpO795XXEJyKdqEcu2QWbfWDjEPlhu7lH2nLP/3u+U9+QXdS3BAfG3+O0NF9oy5LjEA7ExpKmMUxwPYpjVk+bSaY8JnPrIQ/4RmMnq6cNJFr0m8ch4pX5ldWP6aJO5iDb85j5kNWjH65Rrj1Spj+OzWvwjWTLysO5XSuitQRtQNByGfGX7bue+/Uh+fCpIROGsNj2tDO34+aLvU5iOUVuR3+7ntEH6va427InQrS909eRp6a/q7P2N/rtuunahjbvtJZa3894no2J+eTrjN5NtInJ1EnCiX3XbpYFZG09zyRvKzK1BUZYtEAWPSGo1YUcHnuovVbHVv23wmQre5fI5S4RxvfasV9iz959NK+tj/h9Y+FOHtfXIolbIZCNiRdFvm5JfI4EzgKyVQI8g1ws3thVe4RFDURxaNejJh7Y5cp2N2rkbt13S0y2tl3ypyGgeW0aTlNbccOAu35T+6ndeRDIxsSLIV9MYm7/Hh2aLCBH23V2/SAeW5GatXxHrg09I7SGHv9c0hoyt5SxByZb2i/Z0xDQvDYNp6wV1yneZsTRP2KT9VX9ORHIxsSLIV9nC0sWkLPZeUZ7sIMSPZdzFlv3sA+7gNj9eoRdQMRlD0zOEv+XbIfmtZccffkeIZCNCZGvCK0d6rKA7KD64VXg2+FZiQd25uxD5luCTQK2pY41ZO+JyRr2SsZyBDSvLcdOPZ8TgWxMiHwdFO8sIAeZI7UrIfAoO1EruTtJjDCZBNNTNNK89hRhlBMrIpCNCZGvFUGeIyoLyBwZaisEhIAQOBMCmtfOFA3ZcgYEsjEh8nVQdLKAHGSO1AoBISAEqhE41bwW/BZVtYMLBdx/LsL92OlCebO7tVj88k+/6L9WKBO2pE8ma0m9jZ89XyLrwD7ZmBD5OigoWUAOMkdqhYAQEALVCJxqXjvJgh3+yGk10jMFtK/b+/TLT5q3TJTX9Q2JWdJnSN7QtbFYjV23sue0tf02Os/GhMjXRoCPic0CMtZP14WAEBACZ0XgVPPaWRbh4D3De8cPBDB8wfaAIUv6DIgbvjQWq7HrkG7evnOmn+fIxoTI13BKbHY1C8hmCiVYCAgBIbAxAqPzWruI4j9g7W9ZlbeORIusrWvP8dMl7I/fbrS39cpvOYa6+j+yXV75Y16V18DU63/ra3U1NtjX7jh8uetFW0EKeOvvjsFNbu83vqzcOX47G1AkkXpzvV7LOxd7/t1ek8ZYhH0C2fadkOVyK5vv0sQ7nu/+dvX0/EYc3v6wsbm8G9rKK0qSkzltExFrVmdjQuRrTZRnyMoCMkOEmgoBISAEToXA6LzG3Qnz3r/Om0eihdPWtf1JsEiEuuWWYAW6GqJlSI1/D2Ijj9eD/p5ogDgUMpNFwtqPNoHcQkAMLh3b5vid2eHrAzs6sfDts7L3D+1s3RQ9tj312Dp7zuvZcU7bTMaK9dmYEPlaEeQ5orKAzJGhtkJACAiBMyEwOq9FC6Ots+d0zNbZc1wfKvtrvn1w3e729GT7/rRv7Oj1+HIm17az51F7f33MpkhGVjcmK9Jt6+w5Zfk6X/a2RNcpyx/ntPV9NyhnY0LkawOwp4jMAjKlr9oIASEgBM6IwOi8Fi2Mts6e00FbZ89xfajsr/n23JFpbjfeboXh9mB5Xijqf712bnGiPXfdaG7v6OX4cmsXnsnCbUF+eMvS3rorD8p7Gb5MIUPHqE9UNyQD16I+ts6eU5av82UvN7pOWf44p63vu0E5GxMiXxuAPUVkFpApfdVGCAgBIXBGBEbntWhhtHX2nA7aOnuO60Nlf61tX0jO2IPwUX/axPltbG4AABeJSURBVOOSNlGfsTp/faxM+4aOXgbaRnVDMrI+Vo49pyxf58tebnSdsvxxTlvfd4NyNiZEvjYAe4rILCBT+qqNEBACQuCMCIzOa9HCaOq428OHvuEjnn1Kd6NM3wYPW7bn1+t19Lmqtk15hsv1h3w8E9XZ6Qra9OLi2/jyFNt8n7Fyz4igwstAk6gu6GqrZscs0BPJ6Ngyx66sbbvTaXPL+rHVeTYmRL62QnxEbhaQkW66LASEgBA4LQKj81q0MLo6PkTP/xD84W8/vv8wqGvbWaCBir0e3VY0D7QTxObBdnvrkW2srLYxSQJtw3F0MfdyfLmVXcghbeGD/96vKeVW5uAhsiOqGxRyuzgrZugS6OnIWPLfjlG87a1cka8JkXwBTUYnqReAgVwUAkLguRDQvPZc8ZQ39QhkY0I7X/XYLpKQBWSRMHUSAkJACJwAAc1rJwiCTDgVAtmYEPk6KExZQA4yR2qFgBAQAtUIaF6rhlACngyBbEyIfB0U6CwgB5kjtUJACAiBagQ0r1VDKAFPhkA2JkS+Dgp0FpCDzJFaISAEhEA1AprXqiGUgCdDIBsTIl8HBToLyEHmSK0QEAJCoBoBzWvVEErAkyGQjQmRr4MCnQXkIHOkVggIASFQjYDmtWoIJeDJEMjGhMjXQYHOAnKQOVIrBISAEKhGQPNaNYQS8GQIZGNC5OugQGcBOcgcqRUCQkAIVCOgea0aQgl4MgSyMdEjX2ioP2GgHFAOKAeUA8oB5YByoD4H8CYE/+nUAGT72gSd3990vzYWwno7bNeOleQpVsqBaTmgeW0aTsqnl4MTx8Qk8uUbqbw+AllA1tckiUJACAiBfRDQvLYPztLyOAhkYyLc+Xoctx7X0iwgj+uRLBcCQuClI6B57aVngPz3CGRjQuTLI7VTOQvITuqlRggIASGwOgKa11aHVAIfHIFsTIh8HRTYLCAHmSO1QkAICIFqBDSvVUMoAU+GQDYmRL4OCnQWkIPMkVohIASEQDUCmteqIZSAJ0MgGxMiXwcFOgvIQeZIrRAQAkKgGgHNa9UQSsCTIZCNCZGvgwKdBeQgc6RWCAgBIVCNgOa1aggl4MkQyMaEyNdBgc4CcpA5UisEhIAQqEZA81o1hBLwZAhkY0Lk66BAZwE5yBypFQJCQAhUI6B5rRpCCXgyBLIxIfJ1UKCzgBxkjtQKASEgBKoR0LxWDaEEPBkC2ZgQ+Too0FlADjJHaoWAEBAC1Qg8/bz2+UfXdy7vXD/6fACqKW3YfU5b9jnz8Wh/jtYfxCYbEyJfAVh7VGUB2UO3dAgBISAEtkBgaF77v//5y/XX7766Xt7+8Ppf//2/HfV//es/XH/wtVfXn7zpVJ+v4Bd3X55rcW1/6FtDxly7M7172hLpiuqW+LZin2xMiHytCPIcUVlA5shQWyEgBITAmRAYm9cKAXv/zrJY9+5vhraTTuKlX9x9ea6Ztf2hbw0Zc+3O9O5pS6Qrqlvi24p9sjEh8rUiyHNEZQGZI0NthYAQEAJnQmDSvPb5R51drv/8+G87u2EkY5fL5dr82Z2yaHGN6iwo7fUff/cbN3mXyxVEr9Hb6ijEL5Jl68x5z07IevvDK3bxyq3Jtv0ff/ezovtyee9aqKeR53GAC9RR7LN+mesFq9YG7Cyyb7lmcUz6vvrKtzq3VP/wwVdDu3uyne9dfy+9Hc1MLonkvb/Byvi+mX6jY63TbEyIfK2F8Ew5WUBmilFzISAEhMBpEJg6r92Iz3vXT7/85E5ULCEwO2PNQs2yISvF6aiuXLztDOGWJgkMSVe33C7ykSxbZ8+hw5d9XUs0L7T/er2RPhIh0z+69UqcClmzfvHcyGBVISdGbwfH6/Xqy94Xf71HDgO9kAGse/4awjkoN+hPn3rHLfT3lNRXZGNC5Kse20USsoAsEqZOQkAICIETIDBnXmsW4XYXqpieLKh+J6nzwHvUpwgMCJJvb8v2nDJsnT3HdV/2dTOvW4JDAkWSSHN6xzEd7GDb2fOJ10EOv2NI1KjvS+RGdlGOP0Ztx+qC6z2/vJ7KcjYmRL4qgV3aPQvIUnnqJwSEgBA4GoFZ81qwEGJB7yzw12tzGw+7KQ3hSvoUchYB4PsMlf01yLN19txfo27bxp6317nDFfpj29tzyo6OUbsJOHqcvZ/NDlZ7W5a3Lju3JRO9vVjYdtzZyuTatpGvti5qO1Y3pt/KX+k8GxMiXysBPFdMFpC5ctReCAgBIXAWBGbNa2MLJZ2y7ex5dJ119uj7DJX9NcixdfbcX6NO28aeT7zO23I8slt6HNPBjradPU+u98gZ2/E4JiNqF5BCNmuOkcxOA1OI2o7Vjek34tc6zcaEyNdaCM+UkwVkphg1FwJCQAicBoFZ81qwUPJWm31myJIQ7hrZn6TA9c6OjEfD6xkoj8p3faP2Q2St55+TB9P5TNqgT8bHyIaeHveMF6/bW5rQa3Va3KEOfT785o/KPwtEeju+00bn46Bc15YiouMm+iNFlXXZmBD5qgR2afcsIEvlqZ8QEAJC4GgEZs1ryUJLYsBbXf53wUhOeP2Hv/2489B+DwOvZ6Q8KN/3NWSpsSf4b8fe7TvzEHxEVor/fCi/51C/omNz26/I4S0+J4/khTh+74Nf9XBsiBL742htH/OdZgaYpXKDthQTHb3f8GnwtmcrJNUfKamsy8aEyFclsEu7ZwFZKk/9hIAQEAJHI6B5zUVgJplAb5Imu7vnpG5TPOCW3DaOnEtqNiZEvg6KUxaQg8yRWiEgBIRANQKa1xyEC8jXbTcn/n0rJ72qCD2W4PnbgVXC1bkgkI0Jka8C0b4nWUD2tULahIAQEALrIaB5zWE5k3xx18s+i+Ukrlbs3LLDLUV3W3I1RS9cUDYmRL4OSowsIAeZI7VCQAgIgWoENK9VQygBT4ZANiZEvg4KdBaQg8yRWiEgBIRANQKa16ohlIAnQyAbEyJfBwU6C8hB5pxWLbbhX79+3fwBs60///Hv/1L04f1o+ggBITAdAc1r07FSy5eBQDYmRL4Oin8WkFpz+ELSf/63v9SKmtQfZAX/qrw2UQHp+rtv/415qevtJbv4HZotfCNu/LdrHt/59vdX920SsGokBB4Qga3mtQeEQiYLgQaBbEwcT75mPpD4LPHMAlLrH0nEFgTF2gb7oeutV281P8y3BfkC8fnHf3pd1ILokZCtrQ++QNebL74o+oglfv9GHyEgBMYR2GpeG9e8Twv721j4T0Fb3uMh+Ule1q6ptf0nGblSowewNRsTs8nX6v8hMQJe+G+37fuZ7L/J8r9EbN1K4d1ETBaQMWXoh9twGfkgYdiSfAFrkC7uDm2x85XhsId/VvePv/uNK0jgS/jwFi9yTB8hsASBpfPaEl2H9GnXnvJL8L58iFFO6cia6lr3i7X9+xK3q3kAW7MxMYt8YXK2rxcg4fG/ejsL6RHw+M3CkqpCAO2v7T7YD8RlAfHYgWxgoGNXxpKd7PYbyYndwfEy1yzTvowMrqkLsnibc0tySZtJMp955wu/vg3/QDJtfr0UwslY67gOAlPntXW07S+lrD1n/lmGkTV1FLXa/qMKVmzwALZmY2IW+Yoga5KRidgCQQLAydwSJ8jwP+1fvkVECtr23NIl4Wt0UC9fc9CWywBpX4tg5XfsbfVRptdRRSoTX1idBYTXeeSiiAWSBIcEJCIFxH5P8jW28wXiSNvpF45DO3i2nT0nHpE8tAM2ke9ZvZWNc+QC7ILNuMU59szXmr55W6aUM7+yeisTviJ22MW0fjCHbFudC4EpCEya19rdIq4P5Wi/TAfrRNPOz/n21TeXy/1HQyMdRv59jXiv+8XDyIe/93a3Z069rffrtx9FtWXOVd7uKXI91o1cY9tNz/2HWDvlCesw17zij5EdvfKou2bf9Xo7m/KY/ogw2br23OKHtfmO7eXKtZq2cs66+dO3L7W/Z6uPYxt3i0/odF6ZjYlq8tX5VVwmfC/J72A07a0jFvTEfpt42AnD29Y//fKTK761f/T5rRPkloA4OTYx8520u40lMY0fTmR1MQuIFQw7sDDi3WX+wx0LX88kzMgJ2kOu/Q/C6Hyov9UJfSC3Q+3RxpJH9GedlTV2DkKBwRWRTvZFG5AmS8BQN0aibH9OSOgDUjL0oR/Wf9YN9VvrWo2/sBO+WqxgF3Fey0bJeTkITJnXPBqck5GL+KJe5l9Lplynspi2czT68K5MWaTbdcbK4xrBNhjj0OltgDq2uVxua0Mkx9vBPrVynbuNffadhdTLjY1GL9erkXW4+MH2JLosuzW50cVrxMWu4d7YEf0kTFy7m+5WZ9vfx6pbbtfrQFdjr7Fv0P6gv7fP5pZ3dUo5GxNV5OuWaHfS4o2OQLUJ1LueeWJuKdokA6h24HSCaWWZ/qhuZLiBycDablueZwGxOrkI+ltsSAZMVBEp44JqyYCViXP0B+GCDRHxQv1Qfytvij60t4TEnltZQ+fAAkR0ColCW7az50Pyo2v0LcLZtrf+2HPbZstz66M9H9MJW0Gc/Yd++3qVhcAYAlPmNci4rR3d3aRyh4ILYvAi525fs/bQsLZvkdXWNwtwK6+Qj0t3BwVfaNkvImNY32wbL8eXG9WuD2WQaIZt6Is5UjbXO2xAvPnzz8uLrrkWUt7gOmuJDnXYuuy8bQtsGv3s64+2P6/ZOns+5bpvb8v2fIqs641oF/vH+lNmxTEbE4vJFwYPE7XYNeaII0FNv6hPEXg7sYkHvSRKzQB+/007kO8Dke2R4Pe/+/UOSZyg35mzSjELiBXOxdETISyw8MuTMvTlwun7WLlrnmc2RjrQFqRoaOcq6gd/pxIv9kefKbcN2T47YusbeT6G51LfMr1z65f4C9+iWNDnuTaovRAYm9cs6ers2jRz9X2Otu3KHN5+YS7XzO4GkS/XOnP/fR3A2hERq3u/mw2+DPm+jnK4DrIMezPfvIxILn3xx6Yv17v33zR+RHeBOusbhdh1LliHaXuzgeHagnCWGLS40meK7xxtf16wdfZ8ynXf3pbteSJr0P6ofyfWt9wh56CKOcdsTCwiX7cEug+UYkjkiK2z5+wU1fGaOYLZf/2nv7/++t37rUYkGd5HxaREcyZRB6wg2ZpvQu+/uT1/ZrZUjcpNT7OAWKVYBEFW/GeI8GAR9rf4fP81y7AFA3OMnEDnEoJC4jXXJ/QDdtwBW+rzENZW5hLfbP/a87n+4gsK4hbt6mWkrNZG9X9+BIbmtc6XYjPnFkISkCkgVq63pMbuYnlES9tEVtO+7Kzd17DSr7WrlNtbjh07PAlkm5Xkep9KuV3v7C4XzjGGO+9ljNZUW2fPKdzWufOyS8S2Y0fbn21tnT2fct23t2V7bmQVm4O1n82aY9S/0+B6DcmsbzNQzsbEbPLVJH6W2JEjpo6DzxIjJPkgi26dKoPB6KY8+00jAurW9z7QIJLyIt1FrpkgBrBddCkLiBUGxp7tTESkzPYdOidBw84Q5PvjHKIzh5zQF/Th+ZCdaIfYzrEH8khEQAjt+ZCu7NqUXSDrjz3PZCL2+POfrB4+4PZwRnCtj/bcy7dltAO2fvcUuY/6sWfdrCydCwEiMDSvlXkVuyft3Movy8g5uy5QHo5sw7maczefxUIb1HHXhjsd3H1qZLXEBWOo9G/XEmsXbWAb6hxqQ+LDPiwP9RmSa32358TB+w3siCd9HbrtWOwy61uzrrNs1mzI61xrH1vh83XWvnLu+nub6IeND3QQk94a7uXZsj1vbcMGjcVj0H7XH7YijswDb3vxccZJNiZmkS+C1gTbbOumoMFA55yXgYW1lyiBY6UfE6Rt0wlaW1cGQWsjdBQm3LYpCWjIHNWWa04Xr69xzAJC2UOLY/YQPvpCLshUtlBTfu0RekAIQE64WKPsH96GHhISaxPrMjvoP0gm5FIfz1GOPugH/60dqBvaAUO80cf+xx/q6Fu0O0Td9GOOb1gcMGb8J6uHDmDsiRL6L/EX/SATNli7KS/T5e1VWQh4BDAukT/pp+wO3W8Foj3+sBiXudesL7fr8Zdn9rWEpKwVTgYX1GYxxrV2frftSQhyO/p2zpELXIp+Zx91p9ixr1mXaHunr1tzG3muruefXQdd29BmY0PP3qC/5wF+jcYcW3iA7z9UjvIpsK2HOdt42Ybs33Prfhu55+uEimxMdEZJ1miC/IdrwuTrJO2OXoxhzQV37uLIfpZ8rO0WsAMBtMnJ82hHy5IaawuIlPeP1+kH5fpjRF7QF2Qk8j2rpz4SLa9niHih7xLfMpKV1ROLjHwt9TfaPYWuiJQRJx2FwBACY/PaUN+XeO1OQrrk8iVi8aw+Z2PixZKvW9Ifl/BZQJ41AR/FL+6sDRHDR/FFdgqBvRHQvDYdcW4A4Asfd8+m91bLR0EgGxMvknwx6Y9M+Cwgj5JQslMICAEh4BHQvOYRuZe57tjddewypz+RdO+qswdGIBsTL5J8nSGOWUDOYJtsEAJCQAgsQUDz2hLU1OeZEcjGhMjXQVHPAnKQOVIrBISAEKhGQPNaNYQS8GQIZGNC5OugQGcBOcgcqRUCQkAIVCOgea0aQgl4MgSyMSHydVCgs4AcZI7UCgEhIASqEdC8Vg2hBDwZAtmYEPk6KNBZQA4yR2qFgBAQAtUITJ3X7j+xcP+9rWrljySg/X2pX/7pF/fftxqzf0mfMZm6vjkC2ZgQ+doc+lhBFpC4tWqFgBAQAudHYMq8Fv4w6JGuBT+0mZozp20q5Pbj4+F7GdfuMyRP13ZBIBsTIl+7wN9XkgWk31I1QkAICIHHQGDSvDb2vr29XDW/jj75Jx9WIl8goHPJ15I+e0EpPTkC2ZgQ+cox2/RKFpBNlUq4EBACQmBDBMbmNe568beuQHp4641vcuCrgnq/ixW8Ase+mQK/22hvZ07+HceJhKpnD14PFLwfsvHN2hrgTSL15nq9lvcktnbccbi/dgkiwj6BbFWdC4FsTIh8HRSnLCAHmSO1QkAICIFqBCbNa57scAeK79ub8oLktg8JFklXtzzxDSbeniEUgraFlBn7m3cJmvKQyHItwOHoN7EU23SyGIFsTIh8LYa0rmMWkDqp6i0EhIAQOA6BSfOaJzC+DPPH6vz1sfIQJL7v3LZR/6huSO4Un8f66/opEcjGhMjXQeHKAnKQOVIrBISAEKhGYNK85omJL8OK4Lkw3rJsXsfj+4yVhzzzfee2HbN1SJ69FtkR1dk+Oj89AtmYEPk6KHRZQA4yR2qFgBAQAtUITJrXPKHwZVgxVuevj5WHPPN957aN+kd1Q3Kn+DzWX9dPiUA2JkS+DgpXFpCDzJFaISAEhEA1ApPmNU9MfHniM1/vXN65v5Tay/DlIc9mtOXu20/wpHz7WfOZr45PkD/DNtqj47kQyMaEyNdBccoCcpA5UisEhIAQqEZg0rzmCYUvt1YUUoP/KjT/Wdhc9n3GypFnfMCd8pvj+EP6fLjf2jRoa6Q7qvM+oE1UF/VV3WkRyMaEyNdBIcsCcpA5UisEhIAQqEZA81o1hBLwZAhkY0Lk66BAZwE5yBypFQJCQAhUI6B5rRpCCXgyBLIxIfJ1UKCzgBxkjtQKASEgBKoR0LxWDaEEPBkC2ZgQ+Too0FlADjJHaoWAEBAC1QhoXquGUAKeDIFsTIh8HRToLCAHmSO1QkAICIFqBDSvVUMoAU+GQDYmRL4OCnQWkIPMkVohIASEQDUCmteqIZSAJ0MgGxMiXwcFOgvIQeZIrRAQAkKgGgHNa9UQSsCTIZCNCZGvgwKdBeQgc6RWCAgBIVCNgOa1aggl4MkQyMaEyNdBgc4CcpA5UisEhIAQqEZA81o1hBLwZAhkY6JHvtBQf8JAOaAcUA4oB5QDygHlQH0O4G0I/tOpaV6X0HnVQvtaB9XdXm8hHISDckA5oBxQDigHlAMzc2CQfPmLKgsBISAEhIAQEAJCQAisi0Bn52td0ZImBISAEBACQkAICAEh4BEQ+fKIqCwEhIAQEAJCQAgIgQ0REPnaEFyJFgJCQAgIASEgBISAR+D/ATiZlh1x9fwwAAAAAElFTkSuQmCC)"
      ]
    },
    {
      "cell_type": "markdown",
      "metadata": {
        "id": "6ro1IVYyKR4S"
      },
      "source": [
        "**Input Format**\r\n",
        "\r\n",
        "5\r\n",
        "\r\n",
        "**Constraints**\r\n",
        "\r\n",
        "No Constraints\r\n",
        "\r\n",
        "**Output Format**\r\n",
        "\r\n",
        "5! = 120\r\n",
        "\r\n",
        "**Sample Input 0**\r\n",
        "\r\n",
        "`5`\r\n",
        "\r\n",
        "**Sample Output 0**\r\n",
        "\r\n",
        "`5 ! = 120`\r\n",
        "\r\n",
        "**Explanation 0**\r\n",
        "\r\n",
        "`5! = 5 * 4 * 3 * 2 * 1`\r\n",
        "\r\n",
        "\r\n",
        "**Sample Input 1**\r\n",
        "\r\n",
        "`-3`\r\n",
        "\r\n",
        "**Sample Output 1**\r\n",
        "\r\n",
        "`Factorial cannot be found for negative numbers`"
      ]
    },
    {
      "cell_type": "markdown",
      "metadata": {
        "id": "f3pKgb7mKww9"
      },
      "source": [
        "*Solution*"
      ]
    },
    {
      "cell_type": "code",
      "metadata": {
        "colab": {
          "base_uri": "https://localhost:8080/"
        },
        "id": "RqzxAJ5bKynO",
        "outputId": "15648249-264d-4a5b-f426-88e6d1c62e70"
      },
      "source": [
        "num = int(input())  \r\n",
        "\r\n",
        "factorial = 1  \r\n",
        "if num < 0:  \r\n",
        "   print(\"Factorial cannot be found for negative numbers\")  \r\n",
        "elif num == 0:  \r\n",
        "   print(\"0 ! = 1\")  \r\n",
        "else:  \r\n",
        "   for i in range(1,num + 1):  \r\n",
        "       factorial = factorial*i  \r\n",
        "   print(num,\"! =\",factorial)"
      ],
      "execution_count": null,
      "outputs": [
        {
          "output_type": "stream",
          "text": [
            "-3\n",
            "Factorial cannot be found for negative numbers\n"
          ],
          "name": "stdout"
        }
      ]
    }
  ]
}