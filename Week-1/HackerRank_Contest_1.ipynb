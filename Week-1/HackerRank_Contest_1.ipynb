{
  "nbformat": 4,
  "nbformat_minor": 0,
  "metadata": {
    "colab": {
      "name": "HackerRank Contest 1.ipynb",
      "provenance": [],
      "collapsed_sections": []
    },
    "kernelspec": {
      "name": "python3",
      "display_name": "Python 3"
    }
  },
  "cells": [
    {
      "cell_type": "markdown",
      "metadata": {
        "id": "AqlXCMi5YOtE"
      },
      "source": [
        "# <u><center> HackerRank Contest 1 - Sample solutions"
      ]
    },
    {
      "cell_type": "markdown",
      "metadata": {
        "id": "F3d_nPlNZ5_h"
      },
      "source": [
        "# Challenge 1"
      ]
    },
    {
      "cell_type": "markdown",
      "metadata": {
        "id": "l8LpXzQyYmUu"
      },
      "source": [
        "Enter the student's marks for english, mathematics, history and art. Find the average and print the result. Ensure that the average is not a decimal answer.\r\n",
        "\r\n",
        "**Input Format**\r\n",
        "Inputs: \r\n",
        "\r\n",
        "English: 80\r\n",
        "\r\n",
        "Mathemetics: 58\r\n",
        "\r\n",
        "History: 72\r\n",
        "\r\n",
        "Art: 96\r\n",
        "\r\n",
        "**Constraints**\r\n",
        "\r\n",
        "0<= marks <=100\r\n",
        "\r\n",
        "**Output Format**\r\n",
        "\r\n",
        "80\r\n",
        "\r\n",
        "58\r\n",
        "\r\n",
        "72\r\n",
        "\r\n",
        "96\r\n",
        "\r\n",
        "Average= 77"
      ]
    },
    {
      "cell_type": "code",
      "metadata": {
        "colab": {
          "base_uri": "https://localhost:8080/"
        },
        "id": "eMZ2iS3OYMcY",
        "outputId": "52ca4e1c-803d-4942-8974-08cafbb70de7"
      },
      "source": [
        "mark1=int(input())\r\n",
        "mark2=int(input())\r\n",
        "mark3=int(input())\r\n",
        "mark4=int(input())\r\n",
        "average = (mark1+mark2+mark3+mark4)/4\r\n",
        "\r\n",
        "print(mark1)\r\n",
        "print(mark2)\r\n",
        "print(mark3)\r\n",
        "print(mark4)\r\n",
        "print('Average=',int(average))"
      ],
      "execution_count": null,
      "outputs": [
        {
          "output_type": "stream",
          "text": [
            "80\n",
            "58\n",
            "72\n",
            "96\n",
            "80\n",
            "58\n",
            "72\n",
            "96\n",
            "Average= 76\n"
          ],
          "name": "stdout"
        }
      ]
    },
    {
      "cell_type": "markdown",
      "metadata": {
        "id": "CLk_WCmdgZlD"
      },
      "source": [
        "# Challenge 2"
      ]
    },
    {
      "cell_type": "markdown",
      "metadata": {
        "id": "UlbzfVXnhSGs"
      },
      "source": [
        "Write a program for Simon to calculate gross profit and profit margin for the year end 31st December 2020.\r\n",
        "\r\n",
        "The total sales and total cost of buying for the year should be entered in LKR values.\r\n",
        "\r\n",
        "Below formulas will be useful in solving the challenge:\r\n",
        "\r\n",
        "gross profit= total sales - total cost of sales\r\n",
        "\r\n",
        "profit margin= (gross profit/ total sales )* 100\r\n",
        "If profit > 0 => Profit\r\n",
        "\r\n",
        "If profit < 0 => Loss\r\n",
        "\r\n",
        "Hint: Syntax for using 'if' statements Ex: To find if 'num' is greater than or equal to 10.\r\n",
        "\r\n",
        "num = 10 if (num > 10): print(\"Number is greater than 10\") else: print(\"Number is 10\")\r\n",
        "\r\n",
        "**Input Format** Inputs:\r\n",
        "\r\n",
        "total sales\r\n",
        "\r\n",
        "total buying cost\r\n",
        "\r\n",
        "Constraints\r\n",
        "\r\n",
        "0<= total sales <=1000000\r\n",
        "\r\n",
        "0<= total buying cost <=1000000\r\n",
        "\r\n",
        "**Output Format** Outputs:\r\n",
        "\r\n",
        "total sales: xxx\r\n",
        "\r\n",
        "total cost of sales: xxx\r\n",
        "\r\n",
        "gross profit/loss: xxx\r\n",
        "\r\n",
        "profit(true/false): xxx\r\n",
        "\r\n",
        "gross profit margin: xxx\r\n",
        "\r\n",
        "[Please make sure that all text is in lowercase letters and no unnecessary spaces are printed !!!]\r\n",
        "\r\n",
        "**Sample Input 0**\r\n",
        "\r\n",
        "200000.5\r\n",
        "140000.0\r\n",
        "\r\n",
        "**Sample Output 0**\r\n",
        "\r\n",
        "total sales: 200000.5 \r\n",
        "total cost of sales: 140000.0\r\n",
        "gross profit/loss: 60000.5\r\n",
        "profit(true/false): true\r\n",
        "gross profit margin: 30.0001749995625"
      ]
    },
    {
      "cell_type": "code",
      "metadata": {
        "id": "lBzzqmpWijYc",
        "colab": {
          "base_uri": "https://localhost:8080/"
        },
        "outputId": "dd905430-0ab2-4c3f-8e8c-7ba4a67fe51f"
      },
      "source": [
        "total_sales = float(input())\r\n",
        "print('total sales:',total_sales)\r\n",
        "\r\n",
        "total_cost = float(input())\r\n",
        "print('total cost of sales:',total_cost)\r\n",
        "\r\n",
        "pf = total_sales - total_cost\r\n",
        "print('gross profit/loss:',pf)\r\n",
        "# print('profit(true/false):')\r\n",
        "if (pf>0):\r\n",
        "    print('profit(true/false): true')\r\n",
        "else:\r\n",
        "    print('profit(true/false): false')\r\n",
        "gross_profit_margin = (pf/ total_sales )* 100\r\n",
        "print('gross profit margin:',gross_profit_margin)"
      ],
      "execution_count": 5,
      "outputs": [
        {
          "output_type": "stream",
          "text": [
            "200000.5\n",
            "total sales: 200000.5\n",
            "140000.0\n",
            "total cost of sales: 140000.0\n",
            "gross profit/loss: 60000.5\n",
            "profit(true/false): true\n",
            "gross profit margin: 30.0001749995625\n"
          ],
          "name": "stdout"
        }
      ]
    }
  ]
}