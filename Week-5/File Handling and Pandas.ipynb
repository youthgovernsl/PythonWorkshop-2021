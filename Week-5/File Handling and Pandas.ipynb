{
 "cells": [
  {
   "cell_type": "markdown",
   "metadata": {
    "id": "hofifkMkh6-D"
   },
   "source": [
    "#<u><center>File Handling</u>\n",
    "\n",
    "This notebook will give you an introduction to the concept of File Handling in Python.\n",
    "\n",
    "The following topics will be covered.\n",
    "\n",
    "[1. Printing output to screen and taking input from keyboard](#Printingoutput)\n",
    "\n",
    "[2. File Reading](#Reading)\n",
    "\n",
    "[3. File Writing](#Writing)\n",
    "\n",
    "[4. Appending to an existing file](#Append)\n",
    "\n",
    "[5. Introduction to os](#os)\n",
    "\n",
    "[6. Introduction to pandas](#Introduction)\n",
    "\n"
   ]
  },
  {
   "cell_type": "markdown",
   "metadata": {
    "id": "mFhaykBth6-F"
   },
   "source": [
    "<a name='Printingoutput'></a>\n",
    "### <u>Printing output to screen and taking input from keyboard</u>\n"
   ]
  },
  {
   "cell_type": "markdown",
   "metadata": {
    "id": "7lTy7Yhoh6-G"
   },
   "source": [
    "##### <u>input('prompt')</u>\n",
    "\n",
    "input is a built in python function that takes input from users using keyboard<br>\n",
    "<pre><b>Arguments</b>\n",
    "    prompt => The text that is prompted when Input is asked from the user<br>\n",
    "<b>Return</b>\n",
    "    Return => The input the user gives. This is taken as a <b>String</b></pre>\n",
    "[Read about input()](https://docs.python.org/3/library/functions.html#input)\n",
    "<br><br><br>\n",
    "\n",
    "\n",
    "##### <u>print(*objects, sep=' ', end='\\n', file=sys.stdout, flush=False)</u>\n",
    "print is a built in python function used to print values (Objects) into screen\n",
    "<pre><b>Arguments</b>\n",
    "    *objects => The objects to be printed(eg:- strings,int,float,dictionaries.....)<br>\n",
    "    sep => How to separate the objects from each other (default = ' ').<br>\n",
    "    end => How to end the print (default = '/n')\n",
    "<b>Return</b>\n",
    "    Return => Output the objects into the screen</pre>\n",
    "[Read about print()](https://docs.python.org/3/library/functions.html#print)\n",
    "\n",
    "<a id='mode_table'></a>"
   ]
  },
  {
   "cell_type": "markdown",
   "metadata": {
    "id": "ASIyTCagh6-H"
   },
   "source": [
    "![title](Images/AccessModes.PNG)\n",
    "![title](Images/FileObjectAttribute.PNG)"
   ]
  },
  {
   "cell_type": "code",
   "execution_count": 4,
   "metadata": {
    "colab": {
     "base_uri": "https://localhost:8080/"
    },
    "executionInfo": {
     "elapsed": 110483,
     "status": "ok",
     "timestamp": 1608444012961,
     "user": {
      "displayName": "Manuri Senarathna",
      "photoUrl": "",
      "userId": "17305725287521172532"
     },
     "user_tz": -330
    },
    "id": "SYbaD86Dh6-H",
    "outputId": "522e01db-07ca-4728-b2c5-b779e89ced3b"
   },
   "outputs": [
    {
     "name": "stdin",
     "output_type": "stream",
     "text": [
      "Input your first number my friend :-  5\n",
      "Input your second number my friend :-  5\n"
     ]
    },
    {
     "name": "stdout",
     "output_type": "stream",
     "text": [
      "The sum of the two numbers 10\n"
     ]
    }
   ],
   "source": [
    "num_1 = input('Input your first number my friend :- ')\n",
    "num_2 = input('Input your second number my friend :- ')\n",
    "num_1 = int(num_1)\n",
    "num_2 = int(num_2)\n",
    "\n",
    "sum_of_numbers = num_1 + num_2\n",
    "#print('The sum of the two numbers',sum_of_numbers,sep=' :- ',end=' finished')\n",
    "#print('The sum of the two numbers',sum_of_numbers,sep=' ',end='\\n')\n",
    "print('The sum of the two numbers',sum_of_numbers)"
   ]
  },
  {
   "cell_type": "markdown",
   "metadata": {
    "id": "K8G-ISmRh6-J"
   },
   "source": [
    "<a name='Reading'></a>\n",
    "### <u>File Reading</u>"
   ]
  },
  {
   "cell_type": "markdown",
   "metadata": {
    "id": "QX8XR741h6-J"
   },
   "source": [
    "##### <u>open(file_name, mode, buffering)</u>\n",
    "\n",
    "open is a built in python function that is used to create a file object (representation of a file <b>within</b> python) for a specific file <br>\n",
    "<pre><b>Arguments</b>\n",
    "    file_name => The file path (location of file, <b>relative</b> or <b>absolute</b>)<br>\n",
    "    mode => Access mode of the file(discussed below) (default is 'r')<br>\n",
    "    buffering => buffering is an optional integer used to set the buffering policy (check python documentation using the link below)\n",
    "<b>Return</b>\n",
    "    Return => The python file object</pre>\n",
    "<br>\n",
    "\n",
    "[Read about open()](https://docs.python.org/3/library/functions.html#open)\n",
    "<br><br><br>\n",
    "##### <u>f.close()</u>\n",
    "\n",
    "f.close() (where f is a file object) is a <b>file object method/function</b> that is used to close a file object. it f flushes any unwritten data and after flosing no more writing or reading can be done from f<br>\n",
    "<br>\n",
    "\n",
    "\n"
   ]
  },
  {
   "cell_type": "code",
   "execution_count": 5,
   "metadata": {
    "id": "HN7HKYfMh6-K"
   },
   "outputs": [],
   "source": [
    "fileObject = open(\"Files/example.txt\", mode = \"r\")"
   ]
  },
  {
   "cell_type": "markdown",
   "metadata": {
    "id": "nz-7KV_Xh6-K"
   },
   "source": [
    "#### There are three ways to read the file mainly"
   ]
  },
  {
   "cell_type": "markdown",
   "metadata": {},
   "source": [
    "![title](Images/new_reads.PNG)"
   ]
  },
  {
   "cell_type": "markdown",
   "metadata": {
    "id": "KlZW6g1vh6-L"
   },
   "source": [
    "#### 1. Using read(). \n",
    "<pre>\n",
    "    This method reads the whole file if a count argument is not given , if the count argument is given the read() function<br>    reads until the numbrt of characters read is equal to count \n",
    "</pre>"
   ]
  },
  {
   "cell_type": "code",
   "execution_count": 6,
   "metadata": {
    "colab": {
     "base_uri": "https://localhost:8080/",
     "height": 180
    },
    "executionInfo": {
     "elapsed": 1557,
     "status": "error",
     "timestamp": 1609527927434,
     "user": {
      "displayName": "Vidushani Dhanawansa",
      "photoUrl": "https://lh4.googleusercontent.com/-dfmfGBVRYXQ/AAAAAAAAAAI/AAAAAAAAlm8/iyuNmIL-cKA/s64/photo.jpg",
      "userId": "04073440333108761068"
     },
     "user_tz": -330
    },
    "id": "VkAoGH9zh6-L",
    "outputId": "d76ef123-27e2-4b2a-d9a4-a0678961bd00"
   },
   "outputs": [
    {
     "name": "stdout",
     "output_type": "stream",
     "text": [
      "Hello guys,\n",
      "Welcome to the python workshop\n",
      "conducted by YGSL\n",
      "This is the example text\n",
      "let's learn how to load a file\n",
      "line by line \n",
      "in a python script.\n",
      "Thanks for joining guys.\n"
     ]
    }
   ],
   "source": [
    "string = fileObject.read()\n",
    "print(string)"
   ]
  },
  {
   "cell_type": "code",
   "execution_count": 7,
   "metadata": {
    "id": "pMjfQGdah6-M",
    "outputId": "019b4fbf-4748-42a2-a019-30ad72048431"
   },
   "outputs": [
    {
     "data": {
      "text/plain": [
       "''"
      ]
     },
     "execution_count": 7,
     "metadata": {},
     "output_type": "execute_result"
    }
   ],
   "source": [
    "string = fileObject.read() #why does it result in an empty string\n",
    "string"
   ]
  },
  {
   "cell_type": "code",
   "execution_count": 8,
   "metadata": {
    "id": "kGw1VH2dh6-M"
   },
   "outputs": [],
   "source": [
    "fileObject.seek(0,0); #set pointer to zero or re-open file object which reset the pointer"
   ]
  },
  {
   "cell_type": "markdown",
   "metadata": {
    "id": "bkfo44mZh6-M"
   },
   "source": [
    "[Read about seek() here!!!](https://pscustomobject.github.io/python/Python-Reset-Read-Write-Position/)"
   ]
  },
  {
   "cell_type": "code",
   "execution_count": 9,
   "metadata": {
    "id": "PK0hTEdhh6-N",
    "outputId": "5b4f702e-5477-4351-821e-ccf1d56d41bd"
   },
   "outputs": [
    {
     "name": "stdout",
     "output_type": "stream",
     "text": [
      "Hello guys\n"
     ]
    }
   ],
   "source": [
    "string = fileObject.read(10)\n",
    "print(string)\n",
    "fileObject.seek(0,0); #resetting pointer since I'm using the same fileObject for next examples"
   ]
  },
  {
   "cell_type": "markdown",
   "metadata": {
    "id": "ICKmMmRVh6-N"
   },
   "source": [
    "#### 2. using readLine().\n",
    "\n",
    "<pre>\n",
    "    The fileObject.readline() method reads a single line from a file Object, a newline character ('\\n') is left at the end \n",
    "    of the string, and is only omitted on the last line of the file if the file doesn’t end in a newline. If f.readline()\n",
    "    returns an empty string, the end of the file f has been reached \n",
    "</pre>"
   ]
  },
  {
   "cell_type": "code",
   "execution_count": 10,
   "metadata": {
    "id": "CMgLFrAPh6-O",
    "outputId": "690e7444-0984-42bc-b46f-9c70035d4676"
   },
   "outputs": [
    {
     "data": {
      "text/plain": [
       "'Hello guys,\\n'"
      ]
     },
     "execution_count": 10,
     "metadata": {},
     "output_type": "execute_result"
    }
   ],
   "source": [
    "line = fileObject.readline()\n",
    "line"
   ]
  },
  {
   "cell_type": "code",
   "execution_count": 11,
   "metadata": {
    "id": "eOiZDZf2h6-O"
   },
   "outputs": [],
   "source": [
    "fileObject.seek(0,0);"
   ]
  },
  {
   "cell_type": "code",
   "execution_count": 12,
   "metadata": {
    "id": "A3smr-z7h6-P",
    "outputId": "8d494cce-123d-4992-8810-5d0ac51fe7d9"
   },
   "outputs": [
    {
     "data": {
      "text/plain": [
       "'Hello guys,\\n'"
      ]
     },
     "execution_count": 12,
     "metadata": {},
     "output_type": "execute_result"
    }
   ],
   "source": [
    "line = fileObject.readline(15)\n",
    "line"
   ]
  },
  {
   "cell_type": "code",
   "execution_count": 13,
   "metadata": {
    "id": "yKsj_sYfh6-P"
   },
   "outputs": [],
   "source": [
    "fileObject.seek(0,0);"
   ]
  },
  {
   "cell_type": "code",
   "execution_count": 14,
   "metadata": {
    "id": "jrUsHDxmh6-P",
    "outputId": "19a7638b-62d1-4ac7-b244-938aab7c6664"
   },
   "outputs": [
    {
     "data": {
      "text/plain": [
       "'Hello guys,\\n'"
      ]
     },
     "execution_count": 14,
     "metadata": {},
     "output_type": "execute_result"
    }
   ],
   "source": [
    "line = fileObject.readline(25)\n",
    "line"
   ]
  },
  {
   "cell_type": "code",
   "execution_count": 15,
   "metadata": {
    "id": "fiV5SVdmh6-Q"
   },
   "outputs": [],
   "source": [
    "fileObject.close()"
   ]
  },
  {
   "cell_type": "code",
   "execution_count": 16,
   "metadata": {
    "id": "XpGtlVwDh6-Q",
    "outputId": "1a4b04a0-7759-4b5f-a6d3-d7f5c47b63b1"
   },
   "outputs": [
    {
     "ename": "ValueError",
     "evalue": "I/O operation on closed file.",
     "output_type": "error",
     "traceback": [
      "\u001b[1;31m---------------------------------------------------------------------------\u001b[0m",
      "\u001b[1;31mValueError\u001b[0m                                Traceback (most recent call last)",
      "\u001b[1;32m<ipython-input-16-9bcfdeff6f08>\u001b[0m in \u001b[0;36m<module>\u001b[1;34m\u001b[0m\n\u001b[1;32m----> 1\u001b[1;33m \u001b[0mfileObject\u001b[0m\u001b[1;33m.\u001b[0m\u001b[0mread\u001b[0m\u001b[1;33m(\u001b[0m\u001b[1;33m)\u001b[0m\u001b[1;33m\u001b[0m\u001b[1;33m\u001b[0m\u001b[0m\n\u001b[0m",
      "\u001b[1;31mValueError\u001b[0m: I/O operation on closed file."
     ]
    }
   ],
   "source": [
    "fileObject.read()"
   ]
  },
  {
   "cell_type": "markdown",
   "metadata": {},
   "source": [
    "#### 2.5. using readLines()."
   ]
  },
  {
   "cell_type": "code",
   "execution_count": 19,
   "metadata": {},
   "outputs": [],
   "source": [
    "fileObject = open(\"Files/example.txt\", mode = \"r\")"
   ]
  },
  {
   "cell_type": "code",
   "execution_count": 20,
   "metadata": {},
   "outputs": [
    {
     "data": {
      "text/plain": [
       "['Hello guys,\\n',\n",
       " 'Welcome to the python workshop\\n',\n",
       " 'conducted by YGSL\\n',\n",
       " 'This is the example text\\n',\n",
       " \"let's learn how to load a file\\n\",\n",
       " 'line by line \\n',\n",
       " 'in a python script.\\n',\n",
       " 'Thanks for joining guys.']"
      ]
     },
     "execution_count": 20,
     "metadata": {},
     "output_type": "execute_result"
    }
   ],
   "source": [
    "lines = fileObject.readlines()\n",
    "lines"
   ]
  },
  {
   "cell_type": "markdown",
   "metadata": {
    "id": "Q1gv4jwWh6-R"
   },
   "source": [
    "#### 3. using with open.\n",
    "\n",
    "The specialty of this method is that you don't require to close the file object manually and the file object can't be accessed outside the <b>with open</b> and since a new object is created each time thr code runs no need to reset the pointer of the file"
   ]
  },
  {
   "cell_type": "code",
   "execution_count": null,
   "metadata": {
    "id": "NDXx2B0hh6-R",
    "outputId": "c2aff19d-c33f-430d-f74f-d9a8874a7a33"
   },
   "outputs": [
    {
     "name": "stdout",
     "output_type": "stream",
     "text": [
      "Hello guys,\n",
      "\n",
      "*\n",
      "Welcome to the python workshop\n",
      "\n",
      "*\n",
      "conducted by YGSL\n",
      "\n",
      "*\n",
      "This is the example text\n",
      "\n",
      "*\n",
      "let's learn how to load a file\n",
      "\n",
      "*\n",
      "line by line \n",
      "\n",
      "*\n",
      "in a python script.\n",
      "\n",
      "*\n",
      "Thanks for joining guys.\n",
      "*\n"
     ]
    }
   ],
   "source": [
    "with open(\"Files/example.txt\", \"r\") as fo:\n",
    "    for line in fo:\n",
    "        print(line)\n",
    "        print('*')# added to show that each line is separately printed"
   ]
  },
  {
   "cell_type": "markdown",
   "metadata": {
    "id": "T104opJeh6-R"
   },
   "source": [
    "<a name='Writing'></a>\n",
    "### <u>File Writing</u>\n",
    "\n",
    "Used to write to a file object. If file doesnt exist this method will create and then write, check the mode your creating the file object always.\n",
    "\n",
    "[Read more about write() and other file handling functions](https://www.tutorialspoint.com/python/python_files_io.htm)"
   ]
  },
  {
   "cell_type": "code",
   "execution_count": null,
   "metadata": {
    "id": "oY3iDV03h6-S"
   },
   "outputs": [],
   "source": [
    "file_obj = open('Files/text_write.txt',mode='w')"
   ]
  },
  {
   "cell_type": "code",
   "execution_count": null,
   "metadata": {
    "id": "0vKWDCguh6-S"
   },
   "outputs": [],
   "source": [
    "file_obj.write( \"Python is a great language.\\nYeah I love it!\\n\");"
   ]
  },
  {
   "cell_type": "code",
   "execution_count": null,
   "metadata": {
    "id": "PmuQqtjuh6-S"
   },
   "outputs": [],
   "source": [
    "file_obj.close()"
   ]
  },
  {
   "cell_type": "markdown",
   "metadata": {
    "id": "xSstSbIQh6-S"
   },
   "source": [
    "<a name='Append'></a>\n",
    "### <u>Appending to an existing file</u>\n",
    "\n",
    "when opening the file we need to open it in append mode read the above [table](#mode_table) for the modes.\n",
    "<b>In the append mode remember that the file pointer is at the end of the file</b>"
   ]
  },
  {
   "cell_type": "code",
   "execution_count": null,
   "metadata": {
    "id": "DKVFfQAUh6-T"
   },
   "outputs": [],
   "source": [
    "file_obj = open('Files/text_write.txt',mode='a+')"
   ]
  },
  {
   "cell_type": "code",
   "execution_count": null,
   "metadata": {
    "id": "iMwQbwnRh6-T"
   },
   "outputs": [],
   "source": [
    "file_obj.write(' \\nJust appending some text\\nlests see what happens guys.');"
   ]
  },
  {
   "cell_type": "code",
   "execution_count": null,
   "metadata": {
    "id": "aCl7_ovHh6-T"
   },
   "outputs": [],
   "source": [
    "#since the file pointer is at the end of the file I'm resetting it to the begining before printing the lines\n",
    "file_obj.seek(0,0);"
   ]
  },
  {
   "cell_type": "code",
   "execution_count": null,
   "metadata": {
    "id": "VAGgG1n9h6-T",
    "outputId": "51ad891f-7716-4fb3-c5d2-e26bd4e28377"
   },
   "outputs": [
    {
     "name": "stdout",
     "output_type": "stream",
     "text": [
      "Python is a great language.\n",
      "\n",
      "Yeah I love it!\n",
      "\n",
      " \n",
      "\n",
      "Just appending some text\n",
      "\n",
      "lests see what happens guys.\n"
     ]
    }
   ],
   "source": [
    "for line in file_obj:\n",
    "    print(line)"
   ]
  },
  {
   "cell_type": "markdown",
   "metadata": {
    "id": "TVaLcUDth6-U"
   },
   "source": [
    "<a name='os'></a>\n",
    "### <u>Introduction to os Module</u>\n",
    "\n",
    "os is a python module that is used for os related tasks a few important functions are iven below but the os modules have many more applications that we highly encourage you to explore on your own\n",
    "\n",
    "<b>Note :- Knowledge about this module is not tested in first semester examinations and we encourage you to NOT use it any university examnations during first sem but when your using python as a practicle tool and for further learning (eg:- deeplearning/machine learning etc.) the os module is a valueable tool</b>"
   ]
  },
  {
   "cell_type": "code",
   "execution_count": 22,
   "metadata": {
    "id": "hxRi4v3yh6-U"
   },
   "outputs": [],
   "source": [
    "import os"
   ]
  },
  {
   "cell_type": "markdown",
   "metadata": {
    "id": "ntKYrAsEh6-U"
   },
   "source": [
    "##### 1. Checking whether a file exists"
   ]
  },
  {
   "cell_type": "code",
   "execution_count": 23,
   "metadata": {
    "id": "TXFjhuZrh6-V",
    "outputId": "e3a52387-154e-4617-aaac-d2649ca98a2a"
   },
   "outputs": [
    {
     "data": {
      "text/plain": [
       "True"
      ]
     },
     "execution_count": 23,
     "metadata": {},
     "output_type": "execute_result"
    }
   ],
   "source": [
    "os.path.exists('./Files/example.txt') #path can be relative or absolute"
   ]
  },
  {
   "cell_type": "code",
   "execution_count": 24,
   "metadata": {
    "id": "Ju-5Rtefh6-V",
    "outputId": "c938980d-c7ef-4e1f-aa81-01a74c49b7dd"
   },
   "outputs": [
    {
     "data": {
      "text/plain": [
       "False"
      ]
     },
     "execution_count": 24,
     "metadata": {},
     "output_type": "execute_result"
    }
   ],
   "source": [
    "os.path.exists('./Images/image_that_isnt_there.jpg')"
   ]
  },
  {
   "cell_type": "markdown",
   "metadata": {
    "id": "JiI6iRyFh6-V"
   },
   "source": [
    "##### 2. List of files inside a directory"
   ]
  },
  {
   "cell_type": "code",
   "execution_count": 25,
   "metadata": {
    "id": "bbEI_gnLh6-W",
    "outputId": "c5331643-2e87-4d21-8ff6-9d8ddad0fed8"
   },
   "outputs": [
    {
     "data": {
      "text/plain": [
       "['.ipynb_checkpoints', 'example.txt', 'text_write.txt']"
      ]
     },
     "execution_count": 25,
     "metadata": {},
     "output_type": "execute_result"
    }
   ],
   "source": [
    "os.listdir('./Files')"
   ]
  },
  {
   "cell_type": "markdown",
   "metadata": {
    "id": "c93I7R1Sh6-W"
   },
   "source": [
    "##### 3. Make Directory"
   ]
  },
  {
   "cell_type": "code",
   "execution_count": 26,
   "metadata": {
    "id": "YGoQ9U0vh6-W",
    "outputId": "f64a1728-ddd1-4731-c727-0cd911abde76"
   },
   "outputs": [],
   "source": [
    "os.mkdir('./Test_os_mkdir')"
   ]
  },
  {
   "cell_type": "code",
   "execution_count": 27,
   "metadata": {
    "id": "yGz5luY0h6-W"
   },
   "outputs": [],
   "source": [
    "if not 'Test_os_mkdir' in os.listdir('./'):\n",
    "    os.mkdir('./Test_os_mkdir')"
   ]
  },
  {
   "cell_type": "markdown",
   "metadata": {
    "id": "nNi6Qqmmh6-X"
   },
   "source": [
    "##### 4. Delete file or directory\n"
   ]
  },
  {
   "cell_type": "code",
   "execution_count": 28,
   "metadata": {
    "id": "7BcNqJDWh6-X"
   },
   "outputs": [],
   "source": [
    "with open('Test_os_mkdir/test_file.txt',mode = 'w') as file:\n",
    "    file.write('Hello the file here is for a test')"
   ]
  },
  {
   "cell_type": "code",
   "execution_count": 29,
   "metadata": {
    "id": "L2LWjMlYh6-X"
   },
   "outputs": [],
   "source": [
    "os.remove('Test_os_mkdir/test_file.txt')"
   ]
  },
  {
   "cell_type": "code",
   "execution_count": 30,
   "metadata": {
    "id": "6kcs8PeDh6-X"
   },
   "outputs": [],
   "source": [
    "os.rmdir('Test_os_mkdir') #file must be empty to use this"
   ]
  },
  {
   "cell_type": "markdown",
   "metadata": {
    "id": "EuHzf7dih6-Y"
   },
   "source": [
    "<pre>import shutil\n",
    "    shutil.rmtree(path)</pre>\n",
    "    \n",
    "    \n",
    "Use this if the file is non empty\n",
    "[Read this](https://docs.python.org/3/library/shutil.html) and [this](https://stackoverflow.com/questions/1557351/python-delete-non-empty-dir) for more information"
   ]
  },
  {
   "cell_type": "markdown",
   "metadata": {
    "id": "fF9SUgYbh6-Y"
   },
   "source": [
    "##### 5. Rename File"
   ]
  },
  {
   "cell_type": "code",
   "execution_count": 31,
   "metadata": {
    "id": "4-aezR0hh6-Y"
   },
   "outputs": [],
   "source": [
    "os.mkdir('Test')\n",
    "with open('Test/test_file.txt','w') as file_obj:\n",
    "    file_obj.write('This is pre work to show renaming')"
   ]
  },
  {
   "cell_type": "code",
   "execution_count": 32,
   "metadata": {
    "id": "MAJssMxWh6-Y"
   },
   "outputs": [],
   "source": [
    "os.rename('Test/test_file.txt','Test/renamed_file.txt')#renaming file"
   ]
  },
  {
   "cell_type": "code",
   "execution_count": 33,
   "metadata": {
    "id": "-J0c7Rnph6-Z",
    "outputId": "a7b37df3-f583-4504-eca3-50b66fbc4890"
   },
   "outputs": [
    {
     "ename": "OSError",
     "evalue": "[WinError 145] The directory is not empty: 'Test'",
     "output_type": "error",
     "traceback": [
      "\u001b[1;31m---------------------------------------------------------------------------\u001b[0m",
      "\u001b[1;31mOSError\u001b[0m                                   Traceback (most recent call last)",
      "\u001b[1;32m<ipython-input-33-3e0af8a2a4f0>\u001b[0m in \u001b[0;36m<module>\u001b[1;34m\u001b[0m\n\u001b[1;32m----> 1\u001b[1;33m \u001b[0mos\u001b[0m\u001b[1;33m.\u001b[0m\u001b[0mrmdir\u001b[0m\u001b[1;33m(\u001b[0m\u001b[1;34m'Test'\u001b[0m\u001b[1;33m)\u001b[0m \u001b[1;31m# see how this cell gives an error since it is not empty\u001b[0m\u001b[1;33m\u001b[0m\u001b[1;33m\u001b[0m\u001b[0m\n\u001b[0m",
      "\u001b[1;31mOSError\u001b[0m: [WinError 145] The directory is not empty: 'Test'"
     ]
    }
   ],
   "source": [
    "os.rmdir('Test') # see how this cell gives an error since it is not empty"
   ]
  },
  {
   "cell_type": "code",
   "execution_count": 34,
   "metadata": {
    "id": "SjRrYYG3h6-Z"
   },
   "outputs": [],
   "source": [
    "os.remove('Test/renamed_file.txt')\n",
    "os.rmdir('Test')"
   ]
  },
  {
   "cell_type": "markdown",
   "metadata": {},
   "source": [
    "##### 6.Getting Working Directory"
   ]
  },
  {
   "cell_type": "markdown",
   "metadata": {},
   "source": [
    "![title](Images/cwd.PNG)"
   ]
  },
  {
   "cell_type": "code",
   "execution_count": 35,
   "metadata": {},
   "outputs": [
    {
     "data": {
      "text/plain": [
       "'F:\\\\YGSL\\\\CompleteFiles_PythonWorkshop\\\\Week-5'"
      ]
     },
     "execution_count": 35,
     "metadata": {},
     "output_type": "execute_result"
    }
   ],
   "source": [
    "os.getcwd()"
   ]
  },
  {
   "cell_type": "markdown",
   "metadata": {
    "id": "WknBRzvDh6-Z"
   },
   "source": [
    "<a name='Introduction'></a>\n",
    "### <u>Introduction to pandas</u>"
   ]
  },
  {
   "cell_type": "markdown",
   "metadata": {
    "id": "md7PZ0LTh6-a"
   },
   "source": [
    "Pandas is a python library which is used to manipulate large quantities of data. <b>This is a very important in Data Science.</b>\n",
    "\n",
    "![title](Images/pandas.jpg)\n",
    "\n",
    "\n",
    "<b>Note :- Knowledge about this module is not tested in first semester examinations and we encourage you to NOT use it any university examnations during first sem but when your using python as a practicle tool and for further learning (eg:- deeplearning/machine learning etc.) the os module is a valueable tool</b><br>\n",
    "\n",
    "#### [Read Pandas Documentation](https://pandas.pydata.org/docs/reference/index.html)"
   ]
  },
  {
   "cell_type": "markdown",
   "metadata": {
    "id": "iZCT0fXuh6-a"
   },
   "source": [
    "Pandas is mainly used for <b>DataFrames</b>. Data Frames can be thought of as objects which represnts excel sheets inside of files and data in large formats are usually saved in csv files(aka Comma Separated Files , These like excel sheets but not as organized as them thus require less resources).\n",
    "\n",
    "<b>Pandas is a very widly used python library and has many functions to manupilate other types of data such as audio , JSON ,html but we will only discuss about CSV handling which is the what pandas is mainly used for.</b>\n",
    "\n",
    "![title](Images/pandas_read_functions.png)\n",
    "![title](Images/pandas_read_functions_2.png)"
   ]
  },
  {
   "cell_type": "markdown",
   "metadata": {},
   "source": [
    "![title](Images/PandasIntro.PNG)"
   ]
  },
  {
   "cell_type": "markdown",
   "metadata": {},
   "source": [
    "## Pandas Series"
   ]
  },
  {
   "cell_type": "code",
   "execution_count": 37,
   "metadata": {},
   "outputs": [],
   "source": [
    "import pandas as pd #by using as we are assigning a special name for pandas otherwise we will have to write pandas all the time ,\n",
    "                    #this is a good practice "
   ]
  },
  {
   "cell_type": "markdown",
   "metadata": {},
   "source": [
    "##### 1. Series Creation"
   ]
  },
  {
   "cell_type": "code",
   "execution_count": 36,
   "metadata": {},
   "outputs": [],
   "source": [
    "object1 = [10,20,30]\n",
    "object2 = ['a','b','c']\n",
    "object3 = {\n",
    "    'a':10,\n",
    "    'b':20,\n",
    "    \"c\":30\n",
    "}"
   ]
  },
  {
   "cell_type": "code",
   "execution_count": 38,
   "metadata": {},
   "outputs": [
    {
     "data": {
      "text/plain": [
       "0    10\n",
       "1    20\n",
       "2    30\n",
       "dtype: int64"
      ]
     },
     "execution_count": 38,
     "metadata": {},
     "output_type": "execute_result"
    }
   ],
   "source": [
    "pd.Series(data=object1)"
   ]
  },
  {
   "cell_type": "code",
   "execution_count": 39,
   "metadata": {},
   "outputs": [
    {
     "data": {
      "text/plain": [
       "a    10\n",
       "b    20\n",
       "c    30\n",
       "dtype: int64"
      ]
     },
     "execution_count": 39,
     "metadata": {},
     "output_type": "execute_result"
    }
   ],
   "source": [
    "pd.Series(data=object1,index=object2)"
   ]
  },
  {
   "cell_type": "code",
   "execution_count": 41,
   "metadata": {
    "id": "3MDtxF5nh6-a"
   },
   "outputs": [
    {
     "data": {
      "text/plain": [
       "a    10\n",
       "b    20\n",
       "c    30\n",
       "dtype: int64"
      ]
     },
     "execution_count": 41,
     "metadata": {},
     "output_type": "execute_result"
    }
   ],
   "source": [
    "series_1 = pd.Series(data=object3)\n",
    "series_1"
   ]
  },
  {
   "cell_type": "code",
   "execution_count": 42,
   "metadata": {},
   "outputs": [
    {
     "data": {
      "text/plain": [
       "20"
      ]
     },
     "execution_count": 42,
     "metadata": {},
     "output_type": "execute_result"
    }
   ],
   "source": [
    "series_1['b']"
   ]
  },
  {
   "cell_type": "markdown",
   "metadata": {
    "id": "xe2Qlntwh6-b"
   },
   "source": [
    "#### 1. Read a CSV File\n",
    "\n",
    "[Read about pd.read_csv() in docs](https://pandas.pydata.org/pandas-docs/stable/reference/api/pandas.read_csv.html#pandas.read_csv)"
   ]
  },
  {
   "cell_type": "code",
   "execution_count": null,
   "metadata": {},
   "outputs": [],
   "source": []
  },
  {
   "cell_type": "code",
   "execution_count": 44,
   "metadata": {
    "colab": {
     "base_uri": "https://localhost:8080/",
     "height": 374
    },
    "executionInfo": {
     "elapsed": 2037,
     "status": "error",
     "timestamp": 1609551821439,
     "user": {
      "displayName": "Vidushani Dhanawansa",
      "photoUrl": "https://lh4.googleusercontent.com/-dfmfGBVRYXQ/AAAAAAAAAAI/AAAAAAAAlm8/iyuNmIL-cKA/s64/photo.jpg",
      "userId": "04073440333108761068"
     },
     "user_tz": -330
    },
    "id": "tifisLzUh6-b",
    "outputId": "101679b7-c306-4ba2-ccfc-2a3058c29e2c"
   },
   "outputs": [],
   "source": [
    "dataframe = pd.read_csv('CSV/temperature.csv')"
   ]
  },
  {
   "cell_type": "code",
   "execution_count": 45,
   "metadata": {
    "id": "RlR7Tw1yh6-b",
    "outputId": "5dd9114d-fcca-4a98-c303-96342cb98de9"
   },
   "outputs": [
    {
     "data": {
      "text/html": [
       "<div>\n",
       "<style scoped>\n",
       "    .dataframe tbody tr th:only-of-type {\n",
       "        vertical-align: middle;\n",
       "    }\n",
       "\n",
       "    .dataframe tbody tr th {\n",
       "        vertical-align: top;\n",
       "    }\n",
       "\n",
       "    .dataframe thead th {\n",
       "        text-align: right;\n",
       "    }\n",
       "</style>\n",
       "<table border=\"1\" class=\"dataframe\">\n",
       "  <thead>\n",
       "    <tr style=\"text-align: right;\">\n",
       "      <th></th>\n",
       "      <th>datetime</th>\n",
       "      <th>Vancouver</th>\n",
       "      <th>Portland</th>\n",
       "      <th>San Francisco</th>\n",
       "      <th>Seattle</th>\n",
       "      <th>Los Angeles</th>\n",
       "      <th>San Diego</th>\n",
       "      <th>Las Vegas</th>\n",
       "      <th>Phoenix</th>\n",
       "      <th>Albuquerque</th>\n",
       "      <th>...</th>\n",
       "      <th>Philadelphia</th>\n",
       "      <th>New York</th>\n",
       "      <th>Montreal</th>\n",
       "      <th>Boston</th>\n",
       "      <th>Beersheba</th>\n",
       "      <th>Tel Aviv District</th>\n",
       "      <th>Eilat</th>\n",
       "      <th>Haifa</th>\n",
       "      <th>Nahariyya</th>\n",
       "      <th>Jerusalem</th>\n",
       "    </tr>\n",
       "  </thead>\n",
       "  <tbody>\n",
       "    <tr>\n",
       "      <th>0</th>\n",
       "      <td>2012-10-01 12:00:00</td>\n",
       "      <td>NaN</td>\n",
       "      <td>NaN</td>\n",
       "      <td>NaN</td>\n",
       "      <td>NaN</td>\n",
       "      <td>NaN</td>\n",
       "      <td>NaN</td>\n",
       "      <td>NaN</td>\n",
       "      <td>NaN</td>\n",
       "      <td>NaN</td>\n",
       "      <td>...</td>\n",
       "      <td>NaN</td>\n",
       "      <td>NaN</td>\n",
       "      <td>NaN</td>\n",
       "      <td>NaN</td>\n",
       "      <td>NaN</td>\n",
       "      <td>NaN</td>\n",
       "      <td>309.100000</td>\n",
       "      <td>NaN</td>\n",
       "      <td>NaN</td>\n",
       "      <td>NaN</td>\n",
       "    </tr>\n",
       "    <tr>\n",
       "      <th>1</th>\n",
       "      <td>2012-10-01 13:00:00</td>\n",
       "      <td>284.630000</td>\n",
       "      <td>282.080000</td>\n",
       "      <td>289.480000</td>\n",
       "      <td>281.800000</td>\n",
       "      <td>291.870000</td>\n",
       "      <td>291.530000</td>\n",
       "      <td>293.410000</td>\n",
       "      <td>296.600000</td>\n",
       "      <td>285.120000</td>\n",
       "      <td>...</td>\n",
       "      <td>285.630000</td>\n",
       "      <td>288.220000</td>\n",
       "      <td>285.830000</td>\n",
       "      <td>287.170000</td>\n",
       "      <td>307.590000</td>\n",
       "      <td>305.470000</td>\n",
       "      <td>310.580000</td>\n",
       "      <td>304.4</td>\n",
       "      <td>304.4</td>\n",
       "      <td>303.5</td>\n",
       "    </tr>\n",
       "    <tr>\n",
       "      <th>2</th>\n",
       "      <td>2012-10-01 14:00:00</td>\n",
       "      <td>284.629041</td>\n",
       "      <td>282.083252</td>\n",
       "      <td>289.474993</td>\n",
       "      <td>281.797217</td>\n",
       "      <td>291.868186</td>\n",
       "      <td>291.533501</td>\n",
       "      <td>293.403141</td>\n",
       "      <td>296.608509</td>\n",
       "      <td>285.154558</td>\n",
       "      <td>...</td>\n",
       "      <td>285.663208</td>\n",
       "      <td>288.247676</td>\n",
       "      <td>285.834650</td>\n",
       "      <td>287.186092</td>\n",
       "      <td>307.590000</td>\n",
       "      <td>304.310000</td>\n",
       "      <td>310.495769</td>\n",
       "      <td>304.4</td>\n",
       "      <td>304.4</td>\n",
       "      <td>303.5</td>\n",
       "    </tr>\n",
       "    <tr>\n",
       "      <th>3</th>\n",
       "      <td>2012-10-01 15:00:00</td>\n",
       "      <td>284.626998</td>\n",
       "      <td>282.091866</td>\n",
       "      <td>289.460618</td>\n",
       "      <td>281.789833</td>\n",
       "      <td>291.862844</td>\n",
       "      <td>291.543355</td>\n",
       "      <td>293.392177</td>\n",
       "      <td>296.631487</td>\n",
       "      <td>285.233952</td>\n",
       "      <td>...</td>\n",
       "      <td>285.756824</td>\n",
       "      <td>288.326940</td>\n",
       "      <td>285.847790</td>\n",
       "      <td>287.231672</td>\n",
       "      <td>307.391513</td>\n",
       "      <td>304.281841</td>\n",
       "      <td>310.411538</td>\n",
       "      <td>304.4</td>\n",
       "      <td>304.4</td>\n",
       "      <td>303.5</td>\n",
       "    </tr>\n",
       "    <tr>\n",
       "      <th>4</th>\n",
       "      <td>2012-10-01 16:00:00</td>\n",
       "      <td>284.624955</td>\n",
       "      <td>282.100481</td>\n",
       "      <td>289.446243</td>\n",
       "      <td>281.782449</td>\n",
       "      <td>291.857503</td>\n",
       "      <td>291.553209</td>\n",
       "      <td>293.381213</td>\n",
       "      <td>296.654466</td>\n",
       "      <td>285.313345</td>\n",
       "      <td>...</td>\n",
       "      <td>285.850440</td>\n",
       "      <td>288.406203</td>\n",
       "      <td>285.860929</td>\n",
       "      <td>287.277251</td>\n",
       "      <td>307.145200</td>\n",
       "      <td>304.238015</td>\n",
       "      <td>310.327308</td>\n",
       "      <td>304.4</td>\n",
       "      <td>304.4</td>\n",
       "      <td>303.5</td>\n",
       "    </tr>\n",
       "    <tr>\n",
       "      <th>...</th>\n",
       "      <td>...</td>\n",
       "      <td>...</td>\n",
       "      <td>...</td>\n",
       "      <td>...</td>\n",
       "      <td>...</td>\n",
       "      <td>...</td>\n",
       "      <td>...</td>\n",
       "      <td>...</td>\n",
       "      <td>...</td>\n",
       "      <td>...</td>\n",
       "      <td>...</td>\n",
       "      <td>...</td>\n",
       "      <td>...</td>\n",
       "      <td>...</td>\n",
       "      <td>...</td>\n",
       "      <td>...</td>\n",
       "      <td>...</td>\n",
       "      <td>...</td>\n",
       "      <td>...</td>\n",
       "      <td>...</td>\n",
       "      <td>...</td>\n",
       "    </tr>\n",
       "    <tr>\n",
       "      <th>45248</th>\n",
       "      <td>2017-11-29 20:00:00</td>\n",
       "      <td>NaN</td>\n",
       "      <td>282.000000</td>\n",
       "      <td>NaN</td>\n",
       "      <td>280.820000</td>\n",
       "      <td>293.550000</td>\n",
       "      <td>292.150000</td>\n",
       "      <td>289.540000</td>\n",
       "      <td>294.710000</td>\n",
       "      <td>285.720000</td>\n",
       "      <td>...</td>\n",
       "      <td>290.240000</td>\n",
       "      <td>NaN</td>\n",
       "      <td>275.130000</td>\n",
       "      <td>288.080000</td>\n",
       "      <td>NaN</td>\n",
       "      <td>NaN</td>\n",
       "      <td>NaN</td>\n",
       "      <td>NaN</td>\n",
       "      <td>NaN</td>\n",
       "      <td>NaN</td>\n",
       "    </tr>\n",
       "    <tr>\n",
       "      <th>45249</th>\n",
       "      <td>2017-11-29 21:00:00</td>\n",
       "      <td>NaN</td>\n",
       "      <td>282.890000</td>\n",
       "      <td>NaN</td>\n",
       "      <td>281.650000</td>\n",
       "      <td>295.680000</td>\n",
       "      <td>292.740000</td>\n",
       "      <td>290.610000</td>\n",
       "      <td>295.590000</td>\n",
       "      <td>286.450000</td>\n",
       "      <td>...</td>\n",
       "      <td>289.240000</td>\n",
       "      <td>NaN</td>\n",
       "      <td>274.130000</td>\n",
       "      <td>286.020000</td>\n",
       "      <td>NaN</td>\n",
       "      <td>NaN</td>\n",
       "      <td>NaN</td>\n",
       "      <td>NaN</td>\n",
       "      <td>NaN</td>\n",
       "      <td>NaN</td>\n",
       "    </tr>\n",
       "    <tr>\n",
       "      <th>45250</th>\n",
       "      <td>2017-11-29 22:00:00</td>\n",
       "      <td>NaN</td>\n",
       "      <td>283.390000</td>\n",
       "      <td>NaN</td>\n",
       "      <td>282.750000</td>\n",
       "      <td>295.960000</td>\n",
       "      <td>292.580000</td>\n",
       "      <td>291.340000</td>\n",
       "      <td>296.250000</td>\n",
       "      <td>286.440000</td>\n",
       "      <td>...</td>\n",
       "      <td>286.780000</td>\n",
       "      <td>NaN</td>\n",
       "      <td>273.480000</td>\n",
       "      <td>283.940000</td>\n",
       "      <td>NaN</td>\n",
       "      <td>NaN</td>\n",
       "      <td>NaN</td>\n",
       "      <td>NaN</td>\n",
       "      <td>NaN</td>\n",
       "      <td>NaN</td>\n",
       "    </tr>\n",
       "    <tr>\n",
       "      <th>45251</th>\n",
       "      <td>2017-11-29 23:00:00</td>\n",
       "      <td>NaN</td>\n",
       "      <td>283.020000</td>\n",
       "      <td>NaN</td>\n",
       "      <td>282.960000</td>\n",
       "      <td>295.650000</td>\n",
       "      <td>292.610000</td>\n",
       "      <td>292.150000</td>\n",
       "      <td>297.150000</td>\n",
       "      <td>286.140000</td>\n",
       "      <td>...</td>\n",
       "      <td>284.570000</td>\n",
       "      <td>NaN</td>\n",
       "      <td>272.480000</td>\n",
       "      <td>282.170000</td>\n",
       "      <td>NaN</td>\n",
       "      <td>NaN</td>\n",
       "      <td>NaN</td>\n",
       "      <td>NaN</td>\n",
       "      <td>NaN</td>\n",
       "      <td>NaN</td>\n",
       "    </tr>\n",
       "    <tr>\n",
       "      <th>45252</th>\n",
       "      <td>2017-11-30 00:00:00</td>\n",
       "      <td>NaN</td>\n",
       "      <td>282.280000</td>\n",
       "      <td>NaN</td>\n",
       "      <td>283.040000</td>\n",
       "      <td>294.930000</td>\n",
       "      <td>291.400000</td>\n",
       "      <td>291.640000</td>\n",
       "      <td>297.150000</td>\n",
       "      <td>284.700000</td>\n",
       "      <td>...</td>\n",
       "      <td>283.420000</td>\n",
       "      <td>NaN</td>\n",
       "      <td>271.800000</td>\n",
       "      <td>280.650000</td>\n",
       "      <td>NaN</td>\n",
       "      <td>NaN</td>\n",
       "      <td>NaN</td>\n",
       "      <td>NaN</td>\n",
       "      <td>NaN</td>\n",
       "      <td>NaN</td>\n",
       "    </tr>\n",
       "  </tbody>\n",
       "</table>\n",
       "<p>45253 rows × 37 columns</p>\n",
       "</div>"
      ],
      "text/plain": [
       "                  datetime   Vancouver    Portland  San Francisco     Seattle  \\\n",
       "0      2012-10-01 12:00:00         NaN         NaN            NaN         NaN   \n",
       "1      2012-10-01 13:00:00  284.630000  282.080000     289.480000  281.800000   \n",
       "2      2012-10-01 14:00:00  284.629041  282.083252     289.474993  281.797217   \n",
       "3      2012-10-01 15:00:00  284.626998  282.091866     289.460618  281.789833   \n",
       "4      2012-10-01 16:00:00  284.624955  282.100481     289.446243  281.782449   \n",
       "...                    ...         ...         ...            ...         ...   \n",
       "45248  2017-11-29 20:00:00         NaN  282.000000            NaN  280.820000   \n",
       "45249  2017-11-29 21:00:00         NaN  282.890000            NaN  281.650000   \n",
       "45250  2017-11-29 22:00:00         NaN  283.390000            NaN  282.750000   \n",
       "45251  2017-11-29 23:00:00         NaN  283.020000            NaN  282.960000   \n",
       "45252  2017-11-30 00:00:00         NaN  282.280000            NaN  283.040000   \n",
       "\n",
       "       Los Angeles   San Diego   Las Vegas     Phoenix  Albuquerque  ...  \\\n",
       "0              NaN         NaN         NaN         NaN          NaN  ...   \n",
       "1       291.870000  291.530000  293.410000  296.600000   285.120000  ...   \n",
       "2       291.868186  291.533501  293.403141  296.608509   285.154558  ...   \n",
       "3       291.862844  291.543355  293.392177  296.631487   285.233952  ...   \n",
       "4       291.857503  291.553209  293.381213  296.654466   285.313345  ...   \n",
       "...            ...         ...         ...         ...          ...  ...   \n",
       "45248   293.550000  292.150000  289.540000  294.710000   285.720000  ...   \n",
       "45249   295.680000  292.740000  290.610000  295.590000   286.450000  ...   \n",
       "45250   295.960000  292.580000  291.340000  296.250000   286.440000  ...   \n",
       "45251   295.650000  292.610000  292.150000  297.150000   286.140000  ...   \n",
       "45252   294.930000  291.400000  291.640000  297.150000   284.700000  ...   \n",
       "\n",
       "       Philadelphia    New York    Montreal      Boston   Beersheba  \\\n",
       "0               NaN         NaN         NaN         NaN         NaN   \n",
       "1        285.630000  288.220000  285.830000  287.170000  307.590000   \n",
       "2        285.663208  288.247676  285.834650  287.186092  307.590000   \n",
       "3        285.756824  288.326940  285.847790  287.231672  307.391513   \n",
       "4        285.850440  288.406203  285.860929  287.277251  307.145200   \n",
       "...             ...         ...         ...         ...         ...   \n",
       "45248    290.240000         NaN  275.130000  288.080000         NaN   \n",
       "45249    289.240000         NaN  274.130000  286.020000         NaN   \n",
       "45250    286.780000         NaN  273.480000  283.940000         NaN   \n",
       "45251    284.570000         NaN  272.480000  282.170000         NaN   \n",
       "45252    283.420000         NaN  271.800000  280.650000         NaN   \n",
       "\n",
       "       Tel Aviv District       Eilat  Haifa  Nahariyya  Jerusalem  \n",
       "0                    NaN  309.100000    NaN        NaN        NaN  \n",
       "1             305.470000  310.580000  304.4      304.4      303.5  \n",
       "2             304.310000  310.495769  304.4      304.4      303.5  \n",
       "3             304.281841  310.411538  304.4      304.4      303.5  \n",
       "4             304.238015  310.327308  304.4      304.4      303.5  \n",
       "...                  ...         ...    ...        ...        ...  \n",
       "45248                NaN         NaN    NaN        NaN        NaN  \n",
       "45249                NaN         NaN    NaN        NaN        NaN  \n",
       "45250                NaN         NaN    NaN        NaN        NaN  \n",
       "45251                NaN         NaN    NaN        NaN        NaN  \n",
       "45252                NaN         NaN    NaN        NaN        NaN  \n",
       "\n",
       "[45253 rows x 37 columns]"
      ]
     },
     "execution_count": 45,
     "metadata": {},
     "output_type": "execute_result"
    }
   ],
   "source": [
    "dataframe #this is a dataframe object (like a excel sheet representation within python)"
   ]
  },
  {
   "cell_type": "code",
   "execution_count": 46,
   "metadata": {},
   "outputs": [
    {
     "data": {
      "text/plain": [
       "0        2012-10-01 12:00:00\n",
       "1        2012-10-01 13:00:00\n",
       "2        2012-10-01 14:00:00\n",
       "3        2012-10-01 15:00:00\n",
       "4        2012-10-01 16:00:00\n",
       "                ...         \n",
       "45248    2017-11-29 20:00:00\n",
       "45249    2017-11-29 21:00:00\n",
       "45250    2017-11-29 22:00:00\n",
       "45251    2017-11-29 23:00:00\n",
       "45252    2017-11-30 00:00:00\n",
       "Name: datetime, Length: 45253, dtype: object"
      ]
     },
     "execution_count": 46,
     "metadata": {},
     "output_type": "execute_result"
    }
   ],
   "source": [
    "dataframe['datetime']"
   ]
  },
  {
   "cell_type": "code",
   "execution_count": 47,
   "metadata": {},
   "outputs": [
    {
     "data": {
      "text/plain": [
       "0        2012-10-01 12:00:00\n",
       "1        2012-10-01 13:00:00\n",
       "2        2012-10-01 14:00:00\n",
       "3        2012-10-01 15:00:00\n",
       "4        2012-10-01 16:00:00\n",
       "                ...         \n",
       "45248    2017-11-29 20:00:00\n",
       "45249    2017-11-29 21:00:00\n",
       "45250    2017-11-29 22:00:00\n",
       "45251    2017-11-29 23:00:00\n",
       "45252    2017-11-30 00:00:00\n",
       "Name: datetime, Length: 45253, dtype: object"
      ]
     },
     "execution_count": 47,
     "metadata": {},
     "output_type": "execute_result"
    }
   ],
   "source": [
    "dataframe.datetime"
   ]
  },
  {
   "cell_type": "markdown",
   "metadata": {
    "id": "rSlkcJXjh6-b"
   },
   "source": [
    "#### 2. Read first and last N rows\n",
    "\n",
    "[Read about head() from docs](https://pandas.pydata.org/pandas-docs/stable/reference/api/pandas.DataFrame.head.html)\n",
    "<br>\n",
    "[Read about tail() from docs](https://pandas.pydata.org/pandas-docs/stable/reference/api/pandas.DataFrame.tail.html)"
   ]
  },
  {
   "cell_type": "code",
   "execution_count": null,
   "metadata": {
    "id": "YRXibr8Ch6-c",
    "outputId": "eb262c96-6d08-4b3d-fe81-b917bfeb20b5"
   },
   "outputs": [
    {
     "name": "stdin",
     "output_type": "stream",
     "text": [
      "How many rows :-  5\n"
     ]
    }
   ],
   "source": [
    "N = int(input('How many rows :- '))"
   ]
  },
  {
   "cell_type": "code",
   "execution_count": null,
   "metadata": {
    "id": "ANsqefHrh6-c",
    "outputId": "c867fcab-4f68-48da-f1c3-60abad6e03cd"
   },
   "outputs": [
    {
     "data": {
      "text/html": [
       "<div>\n",
       "<style scoped>\n",
       "    .dataframe tbody tr th:only-of-type {\n",
       "        vertical-align: middle;\n",
       "    }\n",
       "\n",
       "    .dataframe tbody tr th {\n",
       "        vertical-align: top;\n",
       "    }\n",
       "\n",
       "    .dataframe thead th {\n",
       "        text-align: right;\n",
       "    }\n",
       "</style>\n",
       "<table border=\"1\" class=\"dataframe\">\n",
       "  <thead>\n",
       "    <tr style=\"text-align: right;\">\n",
       "      <th></th>\n",
       "      <th>datetime</th>\n",
       "      <th>Vancouver</th>\n",
       "      <th>Portland</th>\n",
       "      <th>San Francisco</th>\n",
       "      <th>Seattle</th>\n",
       "      <th>Los Angeles</th>\n",
       "      <th>San Diego</th>\n",
       "      <th>Las Vegas</th>\n",
       "      <th>Phoenix</th>\n",
       "      <th>Albuquerque</th>\n",
       "      <th>...</th>\n",
       "      <th>Philadelphia</th>\n",
       "      <th>New York</th>\n",
       "      <th>Montreal</th>\n",
       "      <th>Boston</th>\n",
       "      <th>Beersheba</th>\n",
       "      <th>Tel Aviv District</th>\n",
       "      <th>Eilat</th>\n",
       "      <th>Haifa</th>\n",
       "      <th>Nahariyya</th>\n",
       "      <th>Jerusalem</th>\n",
       "    </tr>\n",
       "  </thead>\n",
       "  <tbody>\n",
       "    <tr>\n",
       "      <th>0</th>\n",
       "      <td>2012-10-01 12:00:00</td>\n",
       "      <td>NaN</td>\n",
       "      <td>NaN</td>\n",
       "      <td>NaN</td>\n",
       "      <td>NaN</td>\n",
       "      <td>NaN</td>\n",
       "      <td>NaN</td>\n",
       "      <td>NaN</td>\n",
       "      <td>NaN</td>\n",
       "      <td>NaN</td>\n",
       "      <td>...</td>\n",
       "      <td>NaN</td>\n",
       "      <td>NaN</td>\n",
       "      <td>NaN</td>\n",
       "      <td>NaN</td>\n",
       "      <td>NaN</td>\n",
       "      <td>NaN</td>\n",
       "      <td>309.100000</td>\n",
       "      <td>NaN</td>\n",
       "      <td>NaN</td>\n",
       "      <td>NaN</td>\n",
       "    </tr>\n",
       "    <tr>\n",
       "      <th>1</th>\n",
       "      <td>2012-10-01 13:00:00</td>\n",
       "      <td>284.630000</td>\n",
       "      <td>282.080000</td>\n",
       "      <td>289.480000</td>\n",
       "      <td>281.800000</td>\n",
       "      <td>291.870000</td>\n",
       "      <td>291.530000</td>\n",
       "      <td>293.410000</td>\n",
       "      <td>296.600000</td>\n",
       "      <td>285.120000</td>\n",
       "      <td>...</td>\n",
       "      <td>285.630000</td>\n",
       "      <td>288.220000</td>\n",
       "      <td>285.830000</td>\n",
       "      <td>287.170000</td>\n",
       "      <td>307.590000</td>\n",
       "      <td>305.470000</td>\n",
       "      <td>310.580000</td>\n",
       "      <td>304.4</td>\n",
       "      <td>304.4</td>\n",
       "      <td>303.5</td>\n",
       "    </tr>\n",
       "    <tr>\n",
       "      <th>2</th>\n",
       "      <td>2012-10-01 14:00:00</td>\n",
       "      <td>284.629041</td>\n",
       "      <td>282.083252</td>\n",
       "      <td>289.474993</td>\n",
       "      <td>281.797217</td>\n",
       "      <td>291.868186</td>\n",
       "      <td>291.533501</td>\n",
       "      <td>293.403141</td>\n",
       "      <td>296.608509</td>\n",
       "      <td>285.154558</td>\n",
       "      <td>...</td>\n",
       "      <td>285.663208</td>\n",
       "      <td>288.247676</td>\n",
       "      <td>285.834650</td>\n",
       "      <td>287.186092</td>\n",
       "      <td>307.590000</td>\n",
       "      <td>304.310000</td>\n",
       "      <td>310.495769</td>\n",
       "      <td>304.4</td>\n",
       "      <td>304.4</td>\n",
       "      <td>303.5</td>\n",
       "    </tr>\n",
       "    <tr>\n",
       "      <th>3</th>\n",
       "      <td>2012-10-01 15:00:00</td>\n",
       "      <td>284.626998</td>\n",
       "      <td>282.091866</td>\n",
       "      <td>289.460618</td>\n",
       "      <td>281.789833</td>\n",
       "      <td>291.862844</td>\n",
       "      <td>291.543355</td>\n",
       "      <td>293.392177</td>\n",
       "      <td>296.631487</td>\n",
       "      <td>285.233952</td>\n",
       "      <td>...</td>\n",
       "      <td>285.756824</td>\n",
       "      <td>288.326940</td>\n",
       "      <td>285.847790</td>\n",
       "      <td>287.231672</td>\n",
       "      <td>307.391513</td>\n",
       "      <td>304.281841</td>\n",
       "      <td>310.411538</td>\n",
       "      <td>304.4</td>\n",
       "      <td>304.4</td>\n",
       "      <td>303.5</td>\n",
       "    </tr>\n",
       "    <tr>\n",
       "      <th>4</th>\n",
       "      <td>2012-10-01 16:00:00</td>\n",
       "      <td>284.624955</td>\n",
       "      <td>282.100481</td>\n",
       "      <td>289.446243</td>\n",
       "      <td>281.782449</td>\n",
       "      <td>291.857503</td>\n",
       "      <td>291.553209</td>\n",
       "      <td>293.381213</td>\n",
       "      <td>296.654466</td>\n",
       "      <td>285.313345</td>\n",
       "      <td>...</td>\n",
       "      <td>285.850440</td>\n",
       "      <td>288.406203</td>\n",
       "      <td>285.860929</td>\n",
       "      <td>287.277251</td>\n",
       "      <td>307.145200</td>\n",
       "      <td>304.238015</td>\n",
       "      <td>310.327308</td>\n",
       "      <td>304.4</td>\n",
       "      <td>304.4</td>\n",
       "      <td>303.5</td>\n",
       "    </tr>\n",
       "  </tbody>\n",
       "</table>\n",
       "<p>5 rows × 37 columns</p>\n",
       "</div>"
      ],
      "text/plain": [
       "              datetime   Vancouver    Portland  San Francisco     Seattle  \\\n",
       "0  2012-10-01 12:00:00         NaN         NaN            NaN         NaN   \n",
       "1  2012-10-01 13:00:00  284.630000  282.080000     289.480000  281.800000   \n",
       "2  2012-10-01 14:00:00  284.629041  282.083252     289.474993  281.797217   \n",
       "3  2012-10-01 15:00:00  284.626998  282.091866     289.460618  281.789833   \n",
       "4  2012-10-01 16:00:00  284.624955  282.100481     289.446243  281.782449   \n",
       "\n",
       "   Los Angeles   San Diego   Las Vegas     Phoenix  Albuquerque  ...  \\\n",
       "0          NaN         NaN         NaN         NaN          NaN  ...   \n",
       "1   291.870000  291.530000  293.410000  296.600000   285.120000  ...   \n",
       "2   291.868186  291.533501  293.403141  296.608509   285.154558  ...   \n",
       "3   291.862844  291.543355  293.392177  296.631487   285.233952  ...   \n",
       "4   291.857503  291.553209  293.381213  296.654466   285.313345  ...   \n",
       "\n",
       "   Philadelphia    New York    Montreal      Boston   Beersheba  \\\n",
       "0           NaN         NaN         NaN         NaN         NaN   \n",
       "1    285.630000  288.220000  285.830000  287.170000  307.590000   \n",
       "2    285.663208  288.247676  285.834650  287.186092  307.590000   \n",
       "3    285.756824  288.326940  285.847790  287.231672  307.391513   \n",
       "4    285.850440  288.406203  285.860929  287.277251  307.145200   \n",
       "\n",
       "   Tel Aviv District       Eilat  Haifa  Nahariyya  Jerusalem  \n",
       "0                NaN  309.100000    NaN        NaN        NaN  \n",
       "1         305.470000  310.580000  304.4      304.4      303.5  \n",
       "2         304.310000  310.495769  304.4      304.4      303.5  \n",
       "3         304.281841  310.411538  304.4      304.4      303.5  \n",
       "4         304.238015  310.327308  304.4      304.4      303.5  \n",
       "\n",
       "[5 rows x 37 columns]"
      ]
     },
     "execution_count": 9,
     "metadata": {
      "tags": []
     },
     "output_type": "execute_result"
    }
   ],
   "source": [
    "dataframe.head(N)"
   ]
  },
  {
   "cell_type": "code",
   "execution_count": null,
   "metadata": {
    "id": "YIKmSCmfh6-c",
    "outputId": "618166ba-6c37-4c49-81b4-3b9231d9c862"
   },
   "outputs": [
    {
     "data": {
      "text/html": [
       "<div>\n",
       "<style scoped>\n",
       "    .dataframe tbody tr th:only-of-type {\n",
       "        vertical-align: middle;\n",
       "    }\n",
       "\n",
       "    .dataframe tbody tr th {\n",
       "        vertical-align: top;\n",
       "    }\n",
       "\n",
       "    .dataframe thead th {\n",
       "        text-align: right;\n",
       "    }\n",
       "</style>\n",
       "<table border=\"1\" class=\"dataframe\">\n",
       "  <thead>\n",
       "    <tr style=\"text-align: right;\">\n",
       "      <th></th>\n",
       "      <th>datetime</th>\n",
       "      <th>Vancouver</th>\n",
       "      <th>Portland</th>\n",
       "      <th>San Francisco</th>\n",
       "      <th>Seattle</th>\n",
       "      <th>Los Angeles</th>\n",
       "      <th>San Diego</th>\n",
       "      <th>Las Vegas</th>\n",
       "      <th>Phoenix</th>\n",
       "      <th>Albuquerque</th>\n",
       "      <th>...</th>\n",
       "      <th>Philadelphia</th>\n",
       "      <th>New York</th>\n",
       "      <th>Montreal</th>\n",
       "      <th>Boston</th>\n",
       "      <th>Beersheba</th>\n",
       "      <th>Tel Aviv District</th>\n",
       "      <th>Eilat</th>\n",
       "      <th>Haifa</th>\n",
       "      <th>Nahariyya</th>\n",
       "      <th>Jerusalem</th>\n",
       "    </tr>\n",
       "  </thead>\n",
       "  <tbody>\n",
       "    <tr>\n",
       "      <th>45248</th>\n",
       "      <td>2017-11-29 20:00:00</td>\n",
       "      <td>NaN</td>\n",
       "      <td>282.00</td>\n",
       "      <td>NaN</td>\n",
       "      <td>280.82</td>\n",
       "      <td>293.55</td>\n",
       "      <td>292.15</td>\n",
       "      <td>289.54</td>\n",
       "      <td>294.71</td>\n",
       "      <td>285.72</td>\n",
       "      <td>...</td>\n",
       "      <td>290.24</td>\n",
       "      <td>NaN</td>\n",
       "      <td>275.13</td>\n",
       "      <td>288.08</td>\n",
       "      <td>NaN</td>\n",
       "      <td>NaN</td>\n",
       "      <td>NaN</td>\n",
       "      <td>NaN</td>\n",
       "      <td>NaN</td>\n",
       "      <td>NaN</td>\n",
       "    </tr>\n",
       "    <tr>\n",
       "      <th>45249</th>\n",
       "      <td>2017-11-29 21:00:00</td>\n",
       "      <td>NaN</td>\n",
       "      <td>282.89</td>\n",
       "      <td>NaN</td>\n",
       "      <td>281.65</td>\n",
       "      <td>295.68</td>\n",
       "      <td>292.74</td>\n",
       "      <td>290.61</td>\n",
       "      <td>295.59</td>\n",
       "      <td>286.45</td>\n",
       "      <td>...</td>\n",
       "      <td>289.24</td>\n",
       "      <td>NaN</td>\n",
       "      <td>274.13</td>\n",
       "      <td>286.02</td>\n",
       "      <td>NaN</td>\n",
       "      <td>NaN</td>\n",
       "      <td>NaN</td>\n",
       "      <td>NaN</td>\n",
       "      <td>NaN</td>\n",
       "      <td>NaN</td>\n",
       "    </tr>\n",
       "    <tr>\n",
       "      <th>45250</th>\n",
       "      <td>2017-11-29 22:00:00</td>\n",
       "      <td>NaN</td>\n",
       "      <td>283.39</td>\n",
       "      <td>NaN</td>\n",
       "      <td>282.75</td>\n",
       "      <td>295.96</td>\n",
       "      <td>292.58</td>\n",
       "      <td>291.34</td>\n",
       "      <td>296.25</td>\n",
       "      <td>286.44</td>\n",
       "      <td>...</td>\n",
       "      <td>286.78</td>\n",
       "      <td>NaN</td>\n",
       "      <td>273.48</td>\n",
       "      <td>283.94</td>\n",
       "      <td>NaN</td>\n",
       "      <td>NaN</td>\n",
       "      <td>NaN</td>\n",
       "      <td>NaN</td>\n",
       "      <td>NaN</td>\n",
       "      <td>NaN</td>\n",
       "    </tr>\n",
       "    <tr>\n",
       "      <th>45251</th>\n",
       "      <td>2017-11-29 23:00:00</td>\n",
       "      <td>NaN</td>\n",
       "      <td>283.02</td>\n",
       "      <td>NaN</td>\n",
       "      <td>282.96</td>\n",
       "      <td>295.65</td>\n",
       "      <td>292.61</td>\n",
       "      <td>292.15</td>\n",
       "      <td>297.15</td>\n",
       "      <td>286.14</td>\n",
       "      <td>...</td>\n",
       "      <td>284.57</td>\n",
       "      <td>NaN</td>\n",
       "      <td>272.48</td>\n",
       "      <td>282.17</td>\n",
       "      <td>NaN</td>\n",
       "      <td>NaN</td>\n",
       "      <td>NaN</td>\n",
       "      <td>NaN</td>\n",
       "      <td>NaN</td>\n",
       "      <td>NaN</td>\n",
       "    </tr>\n",
       "    <tr>\n",
       "      <th>45252</th>\n",
       "      <td>2017-11-30 00:00:00</td>\n",
       "      <td>NaN</td>\n",
       "      <td>282.28</td>\n",
       "      <td>NaN</td>\n",
       "      <td>283.04</td>\n",
       "      <td>294.93</td>\n",
       "      <td>291.40</td>\n",
       "      <td>291.64</td>\n",
       "      <td>297.15</td>\n",
       "      <td>284.70</td>\n",
       "      <td>...</td>\n",
       "      <td>283.42</td>\n",
       "      <td>NaN</td>\n",
       "      <td>271.80</td>\n",
       "      <td>280.65</td>\n",
       "      <td>NaN</td>\n",
       "      <td>NaN</td>\n",
       "      <td>NaN</td>\n",
       "      <td>NaN</td>\n",
       "      <td>NaN</td>\n",
       "      <td>NaN</td>\n",
       "    </tr>\n",
       "  </tbody>\n",
       "</table>\n",
       "<p>5 rows × 37 columns</p>\n",
       "</div>"
      ],
      "text/plain": [
       "                  datetime  Vancouver  Portland  San Francisco  Seattle  \\\n",
       "45248  2017-11-29 20:00:00        NaN    282.00            NaN   280.82   \n",
       "45249  2017-11-29 21:00:00        NaN    282.89            NaN   281.65   \n",
       "45250  2017-11-29 22:00:00        NaN    283.39            NaN   282.75   \n",
       "45251  2017-11-29 23:00:00        NaN    283.02            NaN   282.96   \n",
       "45252  2017-11-30 00:00:00        NaN    282.28            NaN   283.04   \n",
       "\n",
       "       Los Angeles  San Diego  Las Vegas  Phoenix  Albuquerque  ...  \\\n",
       "45248       293.55     292.15     289.54   294.71       285.72  ...   \n",
       "45249       295.68     292.74     290.61   295.59       286.45  ...   \n",
       "45250       295.96     292.58     291.34   296.25       286.44  ...   \n",
       "45251       295.65     292.61     292.15   297.15       286.14  ...   \n",
       "45252       294.93     291.40     291.64   297.15       284.70  ...   \n",
       "\n",
       "       Philadelphia  New York  Montreal  Boston  Beersheba  Tel Aviv District  \\\n",
       "45248        290.24       NaN    275.13  288.08        NaN                NaN   \n",
       "45249        289.24       NaN    274.13  286.02        NaN                NaN   \n",
       "45250        286.78       NaN    273.48  283.94        NaN                NaN   \n",
       "45251        284.57       NaN    272.48  282.17        NaN                NaN   \n",
       "45252        283.42       NaN    271.80  280.65        NaN                NaN   \n",
       "\n",
       "       Eilat  Haifa  Nahariyya  Jerusalem  \n",
       "45248    NaN    NaN        NaN        NaN  \n",
       "45249    NaN    NaN        NaN        NaN  \n",
       "45250    NaN    NaN        NaN        NaN  \n",
       "45251    NaN    NaN        NaN        NaN  \n",
       "45252    NaN    NaN        NaN        NaN  \n",
       "\n",
       "[5 rows x 37 columns]"
      ]
     },
     "execution_count": 10,
     "metadata": {
      "tags": []
     },
     "output_type": "execute_result"
    }
   ],
   "source": [
    "dataframe.tail(N)"
   ]
  },
  {
   "cell_type": "markdown",
   "metadata": {
    "id": "OiB0utzlh6-d"
   },
   "source": [
    "#### 3. Get shape of Dataframe\n",
    "[Read about shape from docs](https://pandas.pydata.org/pandas-docs/stable/reference/api/pandas.DataFrame.shape.html)"
   ]
  },
  {
   "cell_type": "code",
   "execution_count": null,
   "metadata": {
    "id": "3A0qYDUuh6-d",
    "outputId": "6e3534c0-65f2-44f5-f49d-31e3e74e1755"
   },
   "outputs": [
    {
     "data": {
      "text/plain": [
       "(45253, 37)"
      ]
     },
     "execution_count": 11,
     "metadata": {
      "tags": []
     },
     "output_type": "execute_result"
    }
   ],
   "source": [
    "dataframe.shape #output in the form (no of rows,no of columns)"
   ]
  },
  {
   "cell_type": "markdown",
   "metadata": {
    "id": "O4xBDkoVh6-d"
   },
   "source": [
    "#### 4. Getting specific columns\n",
    "\n",
    "[Read more](https://pandas.pydata.org/pandas-docs/stable/getting_started/intro_tutorials/03_subset_data.html)"
   ]
  },
  {
   "cell_type": "code",
   "execution_count": null,
   "metadata": {
    "id": "dzS3Fkk3h6-e"
   },
   "outputs": [],
   "source": [
    "few_columns = dataframe[['datetime','Vancouver','Portland','San Francisco']] #returns a new dataframe "
   ]
  },
  {
   "cell_type": "code",
   "execution_count": null,
   "metadata": {
    "id": "zxCkx0awh6-e",
    "outputId": "310c8b92-6b71-419a-a8c1-aa9b0c3388fe"
   },
   "outputs": [
    {
     "data": {
      "text/html": [
       "<div>\n",
       "<style scoped>\n",
       "    .dataframe tbody tr th:only-of-type {\n",
       "        vertical-align: middle;\n",
       "    }\n",
       "\n",
       "    .dataframe tbody tr th {\n",
       "        vertical-align: top;\n",
       "    }\n",
       "\n",
       "    .dataframe thead th {\n",
       "        text-align: right;\n",
       "    }\n",
       "</style>\n",
       "<table border=\"1\" class=\"dataframe\">\n",
       "  <thead>\n",
       "    <tr style=\"text-align: right;\">\n",
       "      <th></th>\n",
       "      <th>datetime</th>\n",
       "      <th>Vancouver</th>\n",
       "      <th>Portland</th>\n",
       "      <th>San Francisco</th>\n",
       "    </tr>\n",
       "  </thead>\n",
       "  <tbody>\n",
       "    <tr>\n",
       "      <th>0</th>\n",
       "      <td>2012-10-01 12:00:00</td>\n",
       "      <td>NaN</td>\n",
       "      <td>NaN</td>\n",
       "      <td>NaN</td>\n",
       "    </tr>\n",
       "    <tr>\n",
       "      <th>1</th>\n",
       "      <td>2012-10-01 13:00:00</td>\n",
       "      <td>284.630000</td>\n",
       "      <td>282.080000</td>\n",
       "      <td>289.480000</td>\n",
       "    </tr>\n",
       "    <tr>\n",
       "      <th>2</th>\n",
       "      <td>2012-10-01 14:00:00</td>\n",
       "      <td>284.629041</td>\n",
       "      <td>282.083252</td>\n",
       "      <td>289.474993</td>\n",
       "    </tr>\n",
       "    <tr>\n",
       "      <th>3</th>\n",
       "      <td>2012-10-01 15:00:00</td>\n",
       "      <td>284.626998</td>\n",
       "      <td>282.091866</td>\n",
       "      <td>289.460618</td>\n",
       "    </tr>\n",
       "    <tr>\n",
       "      <th>4</th>\n",
       "      <td>2012-10-01 16:00:00</td>\n",
       "      <td>284.624955</td>\n",
       "      <td>282.100481</td>\n",
       "      <td>289.446243</td>\n",
       "    </tr>\n",
       "    <tr>\n",
       "      <th>...</th>\n",
       "      <td>...</td>\n",
       "      <td>...</td>\n",
       "      <td>...</td>\n",
       "      <td>...</td>\n",
       "    </tr>\n",
       "    <tr>\n",
       "      <th>45248</th>\n",
       "      <td>2017-11-29 20:00:00</td>\n",
       "      <td>NaN</td>\n",
       "      <td>282.000000</td>\n",
       "      <td>NaN</td>\n",
       "    </tr>\n",
       "    <tr>\n",
       "      <th>45249</th>\n",
       "      <td>2017-11-29 21:00:00</td>\n",
       "      <td>NaN</td>\n",
       "      <td>282.890000</td>\n",
       "      <td>NaN</td>\n",
       "    </tr>\n",
       "    <tr>\n",
       "      <th>45250</th>\n",
       "      <td>2017-11-29 22:00:00</td>\n",
       "      <td>NaN</td>\n",
       "      <td>283.390000</td>\n",
       "      <td>NaN</td>\n",
       "    </tr>\n",
       "    <tr>\n",
       "      <th>45251</th>\n",
       "      <td>2017-11-29 23:00:00</td>\n",
       "      <td>NaN</td>\n",
       "      <td>283.020000</td>\n",
       "      <td>NaN</td>\n",
       "    </tr>\n",
       "    <tr>\n",
       "      <th>45252</th>\n",
       "      <td>2017-11-30 00:00:00</td>\n",
       "      <td>NaN</td>\n",
       "      <td>282.280000</td>\n",
       "      <td>NaN</td>\n",
       "    </tr>\n",
       "  </tbody>\n",
       "</table>\n",
       "<p>45253 rows × 4 columns</p>\n",
       "</div>"
      ],
      "text/plain": [
       "                  datetime   Vancouver    Portland  San Francisco\n",
       "0      2012-10-01 12:00:00         NaN         NaN            NaN\n",
       "1      2012-10-01 13:00:00  284.630000  282.080000     289.480000\n",
       "2      2012-10-01 14:00:00  284.629041  282.083252     289.474993\n",
       "3      2012-10-01 15:00:00  284.626998  282.091866     289.460618\n",
       "4      2012-10-01 16:00:00  284.624955  282.100481     289.446243\n",
       "...                    ...         ...         ...            ...\n",
       "45248  2017-11-29 20:00:00         NaN  282.000000            NaN\n",
       "45249  2017-11-29 21:00:00         NaN  282.890000            NaN\n",
       "45250  2017-11-29 22:00:00         NaN  283.390000            NaN\n",
       "45251  2017-11-29 23:00:00         NaN  283.020000            NaN\n",
       "45252  2017-11-30 00:00:00         NaN  282.280000            NaN\n",
       "\n",
       "[45253 rows x 4 columns]"
      ]
     },
     "execution_count": 14,
     "metadata": {
      "tags": []
     },
     "output_type": "execute_result"
    }
   ],
   "source": [
    "few_columns #new dataframe so we can apply all the functions to this as well"
   ]
  },
  {
   "cell_type": "markdown",
   "metadata": {
    "id": "IqJMjKofh6-e"
   },
   "source": [
    "#### 5. Getting Specific value at row and column\n"
   ]
  },
  {
   "cell_type": "markdown",
   "metadata": {
    "id": "c3YROAJnh6-e"
   },
   "source": [
    "<pre>we can use \n",
    "    1. dataframe.loc[]\n",
    "    2. dataframe.at[] \n",
    "    3. dataframe.iloc[]\n",
    "    4. dataframe.iat[]\n",
    "To get the differences of these functions please read the pandas documentations which is linked below.</pre>\n",
    "\n",
    "\n",
    "[Read about .loc[]](https://pandas.pydata.org/pandas-docs/stable/reference/api/pandas.DataFrame.loc.html) \n",
    "<br>\n",
    "[Read about .iloc[]](https://pandas.pydata.org/pandas-docs/stable/reference/api/pandas.DataFrame.iloc.html)\n",
    "<br>\n",
    "[Read about .at[]](https://pandas.pydata.org/pandas-docs/stable/reference/api/pandas.DataFrame.at.html)\n",
    "<br>\n",
    "[Read about .iat[]](https://pandas.pydata.org/pandas-docs/stable/reference/api/pandas.DataFrame.iat.html)"
   ]
  },
  {
   "cell_type": "code",
   "execution_count": null,
   "metadata": {
    "id": "FavrGl_Wh6-f",
    "outputId": "c23c9866-da41-4867-9664-a091ad94e9be"
   },
   "outputs": [
    {
     "data": {
      "text/plain": [
       "284.624954535"
      ]
     },
     "execution_count": 15,
     "metadata": {
      "tags": []
     },
     "output_type": "execute_result"
    }
   ],
   "source": [
    "dataframe.loc[4,'Vancouver']"
   ]
  },
  {
   "cell_type": "code",
   "execution_count": null,
   "metadata": {
    "id": "IrWM6sEGh6-f",
    "outputId": "c8dc0348-eac1-470d-dbb3-4c0eedae1199"
   },
   "outputs": [
    {
     "data": {
      "text/plain": [
       "281.78244858"
      ]
     },
     "execution_count": 16,
     "metadata": {
      "tags": []
     },
     "output_type": "execute_result"
    }
   ],
   "source": [
    "dataframe.iloc[4,4]"
   ]
  },
  {
   "cell_type": "markdown",
   "metadata": {
    "id": "X58ejKqVh6-g"
   },
   "source": [
    "#### 6. Getting a specific row with an attribute"
   ]
  },
  {
   "cell_type": "code",
   "execution_count": null,
   "metadata": {
    "id": "_m53xKsWh6-g",
    "outputId": "7c7befed-0335-4a54-c5a6-8c4387e313b5"
   },
   "outputs": [
    {
     "data": {
      "text/plain": [
       "0               NaN\n",
       "1        284.630000\n",
       "2        284.629041\n",
       "3        284.626998\n",
       "4        284.624955\n",
       "            ...    \n",
       "45248           NaN\n",
       "45249           NaN\n",
       "45250           NaN\n",
       "45251           NaN\n",
       "45252           NaN\n",
       "Name: Vancouver, Length: 45253, dtype: float64"
      ]
     },
     "execution_count": 17,
     "metadata": {
      "tags": []
     },
     "output_type": "execute_result"
    }
   ],
   "source": [
    "dataframe.Vancouver #Gives the values of the column as a series (like a dataframe but only one column)"
   ]
  },
  {
   "cell_type": "code",
   "execution_count": null,
   "metadata": {
    "id": "8Glqi6GTh6-h"
   },
   "outputs": [],
   "source": [
    "df = dataframe.loc[dataframe.Vancouver >= 305]"
   ]
  },
  {
   "cell_type": "code",
   "execution_count": null,
   "metadata": {
    "id": "fl0HXFUQh6-h",
    "outputId": "098b147f-47f9-4f16-c0cc-77138f918783"
   },
   "outputs": [
    {
     "data": {
      "text/html": [
       "<div>\n",
       "<style scoped>\n",
       "    .dataframe tbody tr th:only-of-type {\n",
       "        vertical-align: middle;\n",
       "    }\n",
       "\n",
       "    .dataframe tbody tr th {\n",
       "        vertical-align: top;\n",
       "    }\n",
       "\n",
       "    .dataframe thead th {\n",
       "        text-align: right;\n",
       "    }\n",
       "</style>\n",
       "<table border=\"1\" class=\"dataframe\">\n",
       "  <thead>\n",
       "    <tr style=\"text-align: right;\">\n",
       "      <th></th>\n",
       "      <th>datetime</th>\n",
       "      <th>Vancouver</th>\n",
       "      <th>Portland</th>\n",
       "      <th>San Francisco</th>\n",
       "      <th>Seattle</th>\n",
       "      <th>Los Angeles</th>\n",
       "      <th>San Diego</th>\n",
       "      <th>Las Vegas</th>\n",
       "      <th>Phoenix</th>\n",
       "      <th>Albuquerque</th>\n",
       "      <th>...</th>\n",
       "      <th>Philadelphia</th>\n",
       "      <th>New York</th>\n",
       "      <th>Montreal</th>\n",
       "      <th>Boston</th>\n",
       "      <th>Beersheba</th>\n",
       "      <th>Tel Aviv District</th>\n",
       "      <th>Eilat</th>\n",
       "      <th>Haifa</th>\n",
       "      <th>Nahariyya</th>\n",
       "      <th>Jerusalem</th>\n",
       "    </tr>\n",
       "  </thead>\n",
       "  <tbody>\n",
       "    <tr>\n",
       "      <th>34041</th>\n",
       "      <td>2016-08-19 21:00:00</td>\n",
       "      <td>305.90</td>\n",
       "      <td>310.22</td>\n",
       "      <td>298.93</td>\n",
       "      <td>305.19</td>\n",
       "      <td>305.65</td>\n",
       "      <td>303.11</td>\n",
       "      <td>308.15</td>\n",
       "      <td>312.40</td>\n",
       "      <td>300.42</td>\n",
       "      <td>...</td>\n",
       "      <td>303.08</td>\n",
       "      <td>302.85</td>\n",
       "      <td>294.59</td>\n",
       "      <td>300.96</td>\n",
       "      <td>293.173</td>\n",
       "      <td>299.35</td>\n",
       "      <td>301.323</td>\n",
       "      <td>301.173</td>\n",
       "      <td>301.173</td>\n",
       "      <td>299.25</td>\n",
       "    </tr>\n",
       "    <tr>\n",
       "      <th>34042</th>\n",
       "      <td>2016-08-19 22:00:00</td>\n",
       "      <td>306.69</td>\n",
       "      <td>310.98</td>\n",
       "      <td>299.39</td>\n",
       "      <td>305.81</td>\n",
       "      <td>306.27</td>\n",
       "      <td>303.15</td>\n",
       "      <td>310.37</td>\n",
       "      <td>312.62</td>\n",
       "      <td>297.84</td>\n",
       "      <td>...</td>\n",
       "      <td>302.29</td>\n",
       "      <td>302.73</td>\n",
       "      <td>293.39</td>\n",
       "      <td>299.78</td>\n",
       "      <td>293.173</td>\n",
       "      <td>298.65</td>\n",
       "      <td>301.323</td>\n",
       "      <td>301.173</td>\n",
       "      <td>301.173</td>\n",
       "      <td>298.55</td>\n",
       "    </tr>\n",
       "    <tr>\n",
       "      <th>34043</th>\n",
       "      <td>2016-08-19 23:00:00</td>\n",
       "      <td>307.00</td>\n",
       "      <td>310.44</td>\n",
       "      <td>299.34</td>\n",
       "      <td>306.07</td>\n",
       "      <td>305.67</td>\n",
       "      <td>301.98</td>\n",
       "      <td>310.37</td>\n",
       "      <td>312.81</td>\n",
       "      <td>296.79</td>\n",
       "      <td>...</td>\n",
       "      <td>300.86</td>\n",
       "      <td>301.70</td>\n",
       "      <td>292.78</td>\n",
       "      <td>298.34</td>\n",
       "      <td>290.960</td>\n",
       "      <td>298.15</td>\n",
       "      <td>298.610</td>\n",
       "      <td>300.960</td>\n",
       "      <td>300.960</td>\n",
       "      <td>297.95</td>\n",
       "    </tr>\n",
       "    <tr>\n",
       "      <th>34044</th>\n",
       "      <td>2016-08-20 00:00:00</td>\n",
       "      <td>306.69</td>\n",
       "      <td>309.80</td>\n",
       "      <td>298.63</td>\n",
       "      <td>305.42</td>\n",
       "      <td>304.53</td>\n",
       "      <td>300.88</td>\n",
       "      <td>310.37</td>\n",
       "      <td>312.21</td>\n",
       "      <td>295.67</td>\n",
       "      <td>...</td>\n",
       "      <td>298.43</td>\n",
       "      <td>299.94</td>\n",
       "      <td>291.14</td>\n",
       "      <td>296.60</td>\n",
       "      <td>290.960</td>\n",
       "      <td>297.65</td>\n",
       "      <td>298.610</td>\n",
       "      <td>300.960</td>\n",
       "      <td>300.960</td>\n",
       "      <td>297.65</td>\n",
       "    </tr>\n",
       "    <tr>\n",
       "      <th>34045</th>\n",
       "      <td>2016-08-20 01:00:00</td>\n",
       "      <td>306.06</td>\n",
       "      <td>308.88</td>\n",
       "      <td>298.10</td>\n",
       "      <td>304.37</td>\n",
       "      <td>302.53</td>\n",
       "      <td>299.16</td>\n",
       "      <td>309.82</td>\n",
       "      <td>310.63</td>\n",
       "      <td>290.42</td>\n",
       "      <td>...</td>\n",
       "      <td>296.89</td>\n",
       "      <td>298.94</td>\n",
       "      <td>289.77</td>\n",
       "      <td>295.22</td>\n",
       "      <td>290.960</td>\n",
       "      <td>297.85</td>\n",
       "      <td>298.610</td>\n",
       "      <td>300.960</td>\n",
       "      <td>300.960</td>\n",
       "      <td>297.85</td>\n",
       "    </tr>\n",
       "    <tr>\n",
       "      <th>34046</th>\n",
       "      <td>2016-08-20 02:00:00</td>\n",
       "      <td>305.30</td>\n",
       "      <td>307.82</td>\n",
       "      <td>294.64</td>\n",
       "      <td>302.68</td>\n",
       "      <td>299.53</td>\n",
       "      <td>296.71</td>\n",
       "      <td>307.59</td>\n",
       "      <td>309.14</td>\n",
       "      <td>288.19</td>\n",
       "      <td>...</td>\n",
       "      <td>295.67</td>\n",
       "      <td>298.11</td>\n",
       "      <td>288.81</td>\n",
       "      <td>294.31</td>\n",
       "      <td>290.420</td>\n",
       "      <td>297.45</td>\n",
       "      <td>296.520</td>\n",
       "      <td>300.820</td>\n",
       "      <td>300.820</td>\n",
       "      <td>297.45</td>\n",
       "    </tr>\n",
       "  </tbody>\n",
       "</table>\n",
       "<p>6 rows × 37 columns</p>\n",
       "</div>"
      ],
      "text/plain": [
       "                  datetime  Vancouver  Portland  San Francisco  Seattle  \\\n",
       "34041  2016-08-19 21:00:00     305.90    310.22         298.93   305.19   \n",
       "34042  2016-08-19 22:00:00     306.69    310.98         299.39   305.81   \n",
       "34043  2016-08-19 23:00:00     307.00    310.44         299.34   306.07   \n",
       "34044  2016-08-20 00:00:00     306.69    309.80         298.63   305.42   \n",
       "34045  2016-08-20 01:00:00     306.06    308.88         298.10   304.37   \n",
       "34046  2016-08-20 02:00:00     305.30    307.82         294.64   302.68   \n",
       "\n",
       "       Los Angeles  San Diego  Las Vegas  Phoenix  Albuquerque  ...  \\\n",
       "34041       305.65     303.11     308.15   312.40       300.42  ...   \n",
       "34042       306.27     303.15     310.37   312.62       297.84  ...   \n",
       "34043       305.67     301.98     310.37   312.81       296.79  ...   \n",
       "34044       304.53     300.88     310.37   312.21       295.67  ...   \n",
       "34045       302.53     299.16     309.82   310.63       290.42  ...   \n",
       "34046       299.53     296.71     307.59   309.14       288.19  ...   \n",
       "\n",
       "       Philadelphia  New York  Montreal  Boston  Beersheba  Tel Aviv District  \\\n",
       "34041        303.08    302.85    294.59  300.96    293.173             299.35   \n",
       "34042        302.29    302.73    293.39  299.78    293.173             298.65   \n",
       "34043        300.86    301.70    292.78  298.34    290.960             298.15   \n",
       "34044        298.43    299.94    291.14  296.60    290.960             297.65   \n",
       "34045        296.89    298.94    289.77  295.22    290.960             297.85   \n",
       "34046        295.67    298.11    288.81  294.31    290.420             297.45   \n",
       "\n",
       "         Eilat    Haifa  Nahariyya  Jerusalem  \n",
       "34041  301.323  301.173    301.173     299.25  \n",
       "34042  301.323  301.173    301.173     298.55  \n",
       "34043  298.610  300.960    300.960     297.95  \n",
       "34044  298.610  300.960    300.960     297.65  \n",
       "34045  298.610  300.960    300.960     297.85  \n",
       "34046  296.520  300.820    300.820     297.45  \n",
       "\n",
       "[6 rows x 37 columns]"
      ]
     },
     "execution_count": 33,
     "metadata": {
      "tags": []
     },
     "output_type": "execute_result"
    }
   ],
   "source": [
    "df"
   ]
  },
  {
   "cell_type": "code",
   "execution_count": null,
   "metadata": {
    "id": "fk91cN_kh6-h"
   },
   "outputs": [],
   "source": [
    "df = dataframe.loc[(dataframe.Vancouver >= 305)&(dataframe.Portland>=310)]"
   ]
  },
  {
   "cell_type": "code",
   "execution_count": null,
   "metadata": {
    "id": "dNWq0vJZh6-i",
    "outputId": "64503e9b-7f97-41c3-8057-e3352e07fde4"
   },
   "outputs": [
    {
     "data": {
      "text/html": [
       "<div>\n",
       "<style scoped>\n",
       "    .dataframe tbody tr th:only-of-type {\n",
       "        vertical-align: middle;\n",
       "    }\n",
       "\n",
       "    .dataframe tbody tr th {\n",
       "        vertical-align: top;\n",
       "    }\n",
       "\n",
       "    .dataframe thead th {\n",
       "        text-align: right;\n",
       "    }\n",
       "</style>\n",
       "<table border=\"1\" class=\"dataframe\">\n",
       "  <thead>\n",
       "    <tr style=\"text-align: right;\">\n",
       "      <th></th>\n",
       "      <th>datetime</th>\n",
       "      <th>Vancouver</th>\n",
       "      <th>Portland</th>\n",
       "      <th>San Francisco</th>\n",
       "      <th>Seattle</th>\n",
       "      <th>Los Angeles</th>\n",
       "      <th>San Diego</th>\n",
       "      <th>Las Vegas</th>\n",
       "      <th>Phoenix</th>\n",
       "      <th>Albuquerque</th>\n",
       "      <th>...</th>\n",
       "      <th>Philadelphia</th>\n",
       "      <th>New York</th>\n",
       "      <th>Montreal</th>\n",
       "      <th>Boston</th>\n",
       "      <th>Beersheba</th>\n",
       "      <th>Tel Aviv District</th>\n",
       "      <th>Eilat</th>\n",
       "      <th>Haifa</th>\n",
       "      <th>Nahariyya</th>\n",
       "      <th>Jerusalem</th>\n",
       "    </tr>\n",
       "  </thead>\n",
       "  <tbody>\n",
       "    <tr>\n",
       "      <th>34041</th>\n",
       "      <td>2016-08-19 21:00:00</td>\n",
       "      <td>305.90</td>\n",
       "      <td>310.22</td>\n",
       "      <td>298.93</td>\n",
       "      <td>305.19</td>\n",
       "      <td>305.65</td>\n",
       "      <td>303.11</td>\n",
       "      <td>308.15</td>\n",
       "      <td>312.40</td>\n",
       "      <td>300.42</td>\n",
       "      <td>...</td>\n",
       "      <td>303.08</td>\n",
       "      <td>302.85</td>\n",
       "      <td>294.59</td>\n",
       "      <td>300.96</td>\n",
       "      <td>293.173</td>\n",
       "      <td>299.35</td>\n",
       "      <td>301.323</td>\n",
       "      <td>301.173</td>\n",
       "      <td>301.173</td>\n",
       "      <td>299.25</td>\n",
       "    </tr>\n",
       "    <tr>\n",
       "      <th>34042</th>\n",
       "      <td>2016-08-19 22:00:00</td>\n",
       "      <td>306.69</td>\n",
       "      <td>310.98</td>\n",
       "      <td>299.39</td>\n",
       "      <td>305.81</td>\n",
       "      <td>306.27</td>\n",
       "      <td>303.15</td>\n",
       "      <td>310.37</td>\n",
       "      <td>312.62</td>\n",
       "      <td>297.84</td>\n",
       "      <td>...</td>\n",
       "      <td>302.29</td>\n",
       "      <td>302.73</td>\n",
       "      <td>293.39</td>\n",
       "      <td>299.78</td>\n",
       "      <td>293.173</td>\n",
       "      <td>298.65</td>\n",
       "      <td>301.323</td>\n",
       "      <td>301.173</td>\n",
       "      <td>301.173</td>\n",
       "      <td>298.55</td>\n",
       "    </tr>\n",
       "    <tr>\n",
       "      <th>34043</th>\n",
       "      <td>2016-08-19 23:00:00</td>\n",
       "      <td>307.00</td>\n",
       "      <td>310.44</td>\n",
       "      <td>299.34</td>\n",
       "      <td>306.07</td>\n",
       "      <td>305.67</td>\n",
       "      <td>301.98</td>\n",
       "      <td>310.37</td>\n",
       "      <td>312.81</td>\n",
       "      <td>296.79</td>\n",
       "      <td>...</td>\n",
       "      <td>300.86</td>\n",
       "      <td>301.70</td>\n",
       "      <td>292.78</td>\n",
       "      <td>298.34</td>\n",
       "      <td>290.960</td>\n",
       "      <td>298.15</td>\n",
       "      <td>298.610</td>\n",
       "      <td>300.960</td>\n",
       "      <td>300.960</td>\n",
       "      <td>297.95</td>\n",
       "    </tr>\n",
       "  </tbody>\n",
       "</table>\n",
       "<p>3 rows × 37 columns</p>\n",
       "</div>"
      ],
      "text/plain": [
       "                  datetime  Vancouver  Portland  San Francisco  Seattle  \\\n",
       "34041  2016-08-19 21:00:00     305.90    310.22         298.93   305.19   \n",
       "34042  2016-08-19 22:00:00     306.69    310.98         299.39   305.81   \n",
       "34043  2016-08-19 23:00:00     307.00    310.44         299.34   306.07   \n",
       "\n",
       "       Los Angeles  San Diego  Las Vegas  Phoenix  Albuquerque  ...  \\\n",
       "34041       305.65     303.11     308.15   312.40       300.42  ...   \n",
       "34042       306.27     303.15     310.37   312.62       297.84  ...   \n",
       "34043       305.67     301.98     310.37   312.81       296.79  ...   \n",
       "\n",
       "       Philadelphia  New York  Montreal  Boston  Beersheba  Tel Aviv District  \\\n",
       "34041        303.08    302.85    294.59  300.96    293.173             299.35   \n",
       "34042        302.29    302.73    293.39  299.78    293.173             298.65   \n",
       "34043        300.86    301.70    292.78  298.34    290.960             298.15   \n",
       "\n",
       "         Eilat    Haifa  Nahariyya  Jerusalem  \n",
       "34041  301.323  301.173    301.173     299.25  \n",
       "34042  301.323  301.173    301.173     298.55  \n",
       "34043  298.610  300.960    300.960     297.95  \n",
       "\n",
       "[3 rows x 37 columns]"
      ]
     },
     "execution_count": 35,
     "metadata": {
      "tags": []
     },
     "output_type": "execute_result"
    }
   ],
   "source": [
    "df"
   ]
  },
  {
   "cell_type": "code",
   "execution_count": null,
   "metadata": {
    "id": "GEtVRS2Bh6-i"
   },
   "outputs": [],
   "source": [
    "df = dataframe.loc[(dataframe.Vancouver >= 305)&(dataframe.Portland>=310)][['Vancouver','Portland']]"
   ]
  },
  {
   "cell_type": "code",
   "execution_count": null,
   "metadata": {
    "id": "oT8vphdhh6-i",
    "outputId": "50c364f5-7d99-44de-f82d-86d8b4a793a9"
   },
   "outputs": [
    {
     "data": {
      "text/html": [
       "<div>\n",
       "<style scoped>\n",
       "    .dataframe tbody tr th:only-of-type {\n",
       "        vertical-align: middle;\n",
       "    }\n",
       "\n",
       "    .dataframe tbody tr th {\n",
       "        vertical-align: top;\n",
       "    }\n",
       "\n",
       "    .dataframe thead th {\n",
       "        text-align: right;\n",
       "    }\n",
       "</style>\n",
       "<table border=\"1\" class=\"dataframe\">\n",
       "  <thead>\n",
       "    <tr style=\"text-align: right;\">\n",
       "      <th></th>\n",
       "      <th>Vancouver</th>\n",
       "      <th>Portland</th>\n",
       "    </tr>\n",
       "  </thead>\n",
       "  <tbody>\n",
       "    <tr>\n",
       "      <th>34041</th>\n",
       "      <td>305.90</td>\n",
       "      <td>310.22</td>\n",
       "    </tr>\n",
       "    <tr>\n",
       "      <th>34042</th>\n",
       "      <td>306.69</td>\n",
       "      <td>310.98</td>\n",
       "    </tr>\n",
       "    <tr>\n",
       "      <th>34043</th>\n",
       "      <td>307.00</td>\n",
       "      <td>310.44</td>\n",
       "    </tr>\n",
       "  </tbody>\n",
       "</table>\n",
       "</div>"
      ],
      "text/plain": [
       "       Vancouver  Portland\n",
       "34041     305.90    310.22\n",
       "34042     306.69    310.98\n",
       "34043     307.00    310.44"
      ]
     },
     "execution_count": 26,
     "metadata": {
      "tags": []
     },
     "output_type": "execute_result"
    }
   ],
   "source": [
    "df"
   ]
  },
  {
   "cell_type": "markdown",
   "metadata": {
    "id": "6PZ7-8Rxh6-i"
   },
   "source": [
    "#### 7. Getting unique values in a column and Getting column names\n",
    "\n",
    "[Read about .unique](https://pandas.pydata.org/pandas-docs/stable/reference/api/pandas.Series.unique.html)"
   ]
  },
  {
   "cell_type": "code",
   "execution_count": null,
   "metadata": {
    "id": "p9SvQHtnh6-j"
   },
   "outputs": [],
   "source": [
    "columns = dataframe.columns"
   ]
  },
  {
   "cell_type": "code",
   "execution_count": null,
   "metadata": {
    "id": "oDSGjyVah6-j",
    "outputId": "2a5a7501-ad88-45ad-b000-1436dd84f87e"
   },
   "outputs": [
    {
     "data": {
      "text/plain": [
       "Index(['datetime', 'Vancouver', 'Portland', 'San Francisco', 'Seattle',\n",
       "       'Los Angeles', 'San Diego', 'Las Vegas', 'Phoenix', 'Albuquerque',\n",
       "       'Denver', 'San Antonio', 'Dallas', 'Houston', 'Kansas City',\n",
       "       'Minneapolis', 'Saint Louis', 'Chicago', 'Nashville', 'Indianapolis',\n",
       "       'Atlanta', 'Detroit', 'Jacksonville', 'Charlotte', 'Miami',\n",
       "       'Pittsburgh', 'Toronto', 'Philadelphia', 'New York', 'Montreal',\n",
       "       'Boston', 'Beersheba', 'Tel Aviv District', 'Eilat', 'Haifa',\n",
       "       'Nahariyya', 'Jerusalem'],\n",
       "      dtype='object')"
      ]
     },
     "execution_count": 38,
     "metadata": {
      "tags": []
     },
     "output_type": "execute_result"
    }
   ],
   "source": [
    "columns"
   ]
  },
  {
   "cell_type": "code",
   "execution_count": null,
   "metadata": {
    "id": "g6kMM4fdh6-j"
   },
   "outputs": [],
   "source": [
    "unique = dataframe.Vancouver.unique() # Note that dataframe.Vancouver gives a series"
   ]
  },
  {
   "cell_type": "code",
   "execution_count": null,
   "metadata": {
    "id": "hyDJxauKh6-k",
    "outputId": "b9d9da9d-c702-492a-b7e9-32adbb881ddd"
   },
   "outputs": [
    {
     "data": {
      "text/plain": [
       "array([         nan, 284.63      , 284.62904131, ..., 286.93775694,\n",
       "       288.64453889, 282.777     ])"
      ]
     },
     "execution_count": 43,
     "metadata": {
      "tags": []
     },
     "output_type": "execute_result"
    }
   ],
   "source": [
    "unique"
   ]
  },
  {
   "cell_type": "code",
   "execution_count": null,
   "metadata": {
    "id": "vIdtJ2ech6-k"
   },
   "outputs": [],
   "source": []
  }
 ],
 "metadata": {
  "colab": {
   "name": "5_File_Handling_Devin.ipynb",
   "provenance": [],
   "toc_visible": true
  },
  "kernelspec": {
   "display_name": "Python 3",
   "language": "python",
   "name": "python3"
  },
  "language_info": {
   "codemirror_mode": {
    "name": "ipython",
    "version": 3
   },
   "file_extension": ".py",
   "mimetype": "text/x-python",
   "name": "python",
   "nbconvert_exporter": "python",
   "pygments_lexer": "ipython3",
   "version": "3.7.9"
  }
 },
 "nbformat": 4,
 "nbformat_minor": 4
}
