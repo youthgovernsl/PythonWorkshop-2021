{
  "nbformat": 4,
  "nbformat_minor": 0,
  "metadata": {
    "colab": {
      "name": "HackerRank Contest 3.ipynb",
      "provenance": [],
      "collapsed_sections": []
    },
    "kernelspec": {
      "name": "python3",
      "display_name": "Python 3"
    }
  },
  "cells": [
    {
      "cell_type": "markdown",
      "metadata": {
        "id": "AqlXCMi5YOtE"
      },
      "source": [
        "# <u><center> HackerRank Contest 3 - Sample solutions"
      ]
    },
    {
      "cell_type": "markdown",
      "metadata": {
        "id": "F3d_nPlNZ5_h"
      },
      "source": [
        "# Challenge 1"
      ]
    },
    {
      "cell_type": "markdown",
      "metadata": {
        "id": "l8LpXzQyYmUu"
      },
      "source": [
        "In this challenge , you will have to find the number of times that YGSL occurs in a contiguous form.\r\n",
        "\r\n",
        "Given a string.\r\n",
        "\r\n",
        "\"YAGBBSCCCLDDD\" should return 1\r\n",
        "\r\n",
        "\"YGHESIITLEEYGSL\" should return 2\r\n",
        "\r\n",
        "\"YGYGSIHHIILT\" should return 1\r\n",
        "\r\n",
        "\"YGLSYGSL\" should return 1\r\n",
        "\r\n",
        "**Input:**\r\n",
        "\r\n",
        "The first line will contain a single integer - the length of the string (N)\r\n",
        "The second line will contain the string (S) containing N consecutive UPPERCASE characters\r\n",
        "Output:\r\n",
        "\r\n",
        "A single integer containing the number of times the word YGSL occurs within the string\r\n",
        "Enter the student's marks for english, mathematics, history and art. Find the average and print the result. Ensure that the average is not a decimal answer.\r\n",
        "\r\n",
        "**Input Format**\r\n",
        "8\r\n",
        "\r\n",
        "YGSLYGSL\r\n",
        "\r\n",
        "**Constraints**\r\n",
        "\r\n",
        "1 <= N <= 100\r\n",
        "\r\n",
        "**Output Format**</br>\r\n",
        "2\r\n",
        "\r\n",
        "**Sample Input 0**</br>\r\n",
        "13</br>\r\n",
        "YAGBBSCCCLDDD\r\n",
        "\r\n",
        "**Sample Output 0**</br>\r\n",
        "1\r\n",
        "\r\n",
        "**Sample Input 1**</br>\r\n",
        "15</br>\r\n",
        "YGHESIITLEEYGSL</br>\r\n",
        "\r\n",
        "**Sample Output 1**</br>\r\n",
        "2"
      ]
    },
    {
      "cell_type": "code",
      "metadata": {
        "colab": {
          "base_uri": "https://localhost:8080/"
        },
        "id": "eMZ2iS3OYMcY",
        "outputId": "c35c5f5b-ed1e-46bf-ead6-dec7470f1466"
      },
      "source": [
        "length = int(input())\r\n",
        "phrase = input()\r\n",
        "\r\n",
        "text = \"YGSL\"\r\n",
        "\r\n",
        "ptr =  0\r\n",
        "count = 0\r\n",
        "\r\n",
        "for i in range(length) :\r\n",
        "    if (text[ptr] == phrase[i]): #match for 1 letter found\r\n",
        "        ptr+=1 #increment the variable so that the next letter in YGSL is searched for\r\n",
        "        if ptr == 3: #since ptr goes from 0 to 3, it means that all 4 letters of YGSL has been found\r\n",
        "            count+=1 #so the counter is increasde\r\n",
        "            ptr = 0  #variable is set to 0, so that after 1 YGSL has been found, another can be searched for \r\n",
        "print(count)"
      ],
      "execution_count": null,
      "outputs": [
        {
          "output_type": "stream",
          "text": [
            "8\n",
            "YGSLYGSL\n",
            "2\n"
          ],
          "name": "stdout"
        }
      ]
    },
    {
      "cell_type": "markdown",
      "metadata": {
        "id": "CLk_WCmdgZlD"
      },
      "source": [
        "# Challenge 2"
      ]
    },
    {
      "cell_type": "markdown",
      "metadata": {
        "id": "UlbzfVXnhSGs"
      },
      "source": [
        "The YGSL leads have decided to map students’ names to their respective birthdays. The objective is to find the birthday for a given name using a query.\r\n",
        "\r\n",
        "For each name requested, print the related entry from your birthday record on a new line in the form name=birthday; \r\n",
        "If an entry for name is not found, print 'Not found' instead.\r\n",
        "\r\n",
        "Write a program that helps our leads with this task.\r\n",
        "\r\n",
        "**Input Format** \r\n",
        "- The first line contains an integer, n, denoting the number of students\r\n",
        "- The next 'n' lines includes the given first names and birthdays.\r\n",
        "  The first value is a students’ name, and the second value is 8 intger digit  birthday in the format of year-month-day with no spaces between the digits.\r\n",
        "\r\n",
        "After these n lines, the number of lines of queries are equivalent to that input by the user. Each line (query) contains a name to look up, and you must continue reading lines until there is no more input.\r\n",
        "\r\n",
        "Note: Names consist of lowercase English alphabetic letters and are first names only.\r\n",
        "Hint: Use Python dictionaries\r\n",
        "\r\n",
        "**Constraints**\r\n",
        "\r\n",
        "1 <= n <= 10^5\r\n",
        "\r\n",
        "1 <= queries <= 10^5\r\n",
        "\r\n",
        "**Output Format**\r\n",
        "\r\n",
        "On a new line for each query, print Not found if the name has no corresponding entry in the record; \r\n",
        "otherwise, print the name and birthday in the format name=birthday.\r\n",
        "\r\n",
        "**Sample Input 0**\r\n",
        "\r\n",
        "4 </br>\r\n",
        "mary 19990122</br>\r\n",
        "john 19980423</br>\r\n",
        "anne 19990211</br>\r\n",
        "kylie 20000415</br>\r\n",
        "john</br>\r\n",
        "mary</br>\r\n",
        "ella</br>\r\n",
        "anne</br>\r\n",
        "\r\n",
        "**Sample Output 0**\r\n",
        "\r\n",
        "john = 19980423</br>\r\n",
        "mary = 19990122</br>\r\n",
        "ella = not found</br>\r\n",
        "anne = 19990211</br>"
      ]
    },
    {
      "cell_type": "code",
      "metadata": {
        "id": "lBzzqmpWijYc",
        "colab": {
          "base_uri": "https://localhost:8080/"
        },
        "outputId": "50d05613-9de9-416f-ef97-a1168ebacf43"
      },
      "source": [
        "n = int(input())\r\n",
        "students = {}\r\n",
        "for i in range (n):\r\n",
        "    record = input().split()\r\n",
        "    students[record[0]] = record[1]\r\n",
        "\r\n",
        "for i in range (n):\r\n",
        "    val = input()\r\n",
        "    if val in students.keys():\r\n",
        "        print(val,'=',students[val])\r\n",
        "    else:\r\n",
        "        print(val,'=',\"not found\")"
      ],
      "execution_count": null,
      "outputs": [
        {
          "output_type": "stream",
          "text": [
            "4\n",
            "mary 19990122\n",
            "john 19980423\n",
            "anne 19990211\n",
            "kylie 20000415\n",
            "john\n",
            "john = 19980423\n",
            "mary\n",
            "mary = 19990122\n",
            "ella\n",
            "ella = not found\n",
            "anne\n",
            "anne = 19990211\n"
          ],
          "name": "stdout"
        }
      ]
    }
  ]
}